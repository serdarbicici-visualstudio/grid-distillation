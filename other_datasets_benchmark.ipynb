{
 "cells": [
  {
   "cell_type": "markdown",
   "metadata": {},
   "source": [
    "# Different Dataset Benchmarks"
   ]
  },
  {
   "cell_type": "code",
   "execution_count": 1,
   "metadata": {},
   "outputs": [],
   "source": [
    "import os\n",
    "\n",
    "import numpy as np\n",
    "import matplotlib.pyplot as plt\n",
    "\n",
    "from sklearn.cluster import KMeans\n",
    "from sklearn.decomposition import PCA\n",
    "from sklearn.manifold import TSNE\n",
    "from sklearn.model_selection import train_test_split\n",
    "from sklearn.datasets import load_digits\n",
    "\n",
    "import grid_distillation_lib_demo as gd\n",
    "\n",
    "import torch\n",
    "import torch.nn as nn\n",
    "import torch.optim as optim\n",
    "from torch.utils.data import DataLoader, TensorDataset\n",
    "\n",
    "from PIL import Image"
   ]
  },
  {
   "cell_type": "code",
   "execution_count": 2,
   "metadata": {},
   "outputs": [
    {
     "name": "stdout",
     "output_type": "stream",
     "text": [
      "CUDA devices:  1\n",
      "CUDA device name:  NVIDIA GeForce GTX 1650 Ti\n"
     ]
    },
    {
     "data": {
      "text/plain": [
       "_CudaDeviceProperties(name='NVIDIA GeForce GTX 1650 Ti', major=7, minor=5, total_memory=4095MB, multi_processor_count=16)"
      ]
     },
     "execution_count": 2,
     "metadata": {},
     "output_type": "execute_result"
    }
   ],
   "source": [
    "# print cuda devices\n",
    "print(\"CUDA devices: \", torch.cuda.device_count())\n",
    "print(\"CUDA device name: \", torch.cuda.get_device_name(0))\n",
    "\n",
    "# select device and print info\n",
    "device = torch.device(\"cuda:0\" if torch.cuda.is_available() else \"cpu\")\n",
    "torch.cuda.get_device_properties(0)"
   ]
  },
  {
   "cell_type": "markdown",
   "metadata": {},
   "source": [
    "# Demo - Digits"
   ]
  },
  {
   "cell_type": "code",
   "execution_count": 3,
   "metadata": {},
   "outputs": [
    {
     "name": "stdout",
     "output_type": "stream",
     "text": [
      "Epoch [1/10], Loss: 2.3040608353084986\n",
      "Epoch [2/10], Loss: 2.301523044374254\n",
      "Epoch [3/10], Loss: 2.2905825985802544\n",
      "Epoch [4/10], Loss: 2.2040018611484102\n",
      "Epoch [5/10], Loss: 1.7971376578013103\n",
      "Epoch [6/10], Loss: 1.2177138672934638\n",
      "Epoch [7/10], Loss: 0.8748265014754402\n",
      "Epoch [8/10], Loss: 0.7334274152914683\n",
      "Epoch [9/10], Loss: 0.6453275614314609\n",
      "Epoch [10/10], Loss: 0.5826464255650838\n",
      "Original Model Accuracy: 84.44444444444444%\n"
     ]
    }
   ],
   "source": [
    "\n",
    "# Load the dataset\n",
    "digits = load_digits()\n",
    "X = digits.images\n",
    "y = digits.target\n",
    "\n",
    "# Normalize the images\n",
    "X = X / 255.0\n",
    "\n",
    "# Reshape the images to (n_samples, 1, 8, 8)\n",
    "X = X.reshape(-1, 1, 8, 8)\n",
    "\n",
    "# Convert labels to torch tensors\n",
    "y = torch.tensor(y, dtype=torch.long)\n",
    "\n",
    "# Split the dataset into train and test\n",
    "X_train, X_test, y_train, y_test = train_test_split(X, y, test_size=0.2, random_state=42)\n",
    "\n",
    "# Create a DataLoader\n",
    "train_dataset = TensorDataset(torch.tensor(X_train, dtype=torch.float32), y_train)\n",
    "test_dataset = TensorDataset(torch.tensor(X_test, dtype=torch.float32), y_test)\n",
    "train_loader = DataLoader(train_dataset, batch_size=32, shuffle=True)\n",
    "test_loader = DataLoader(test_dataset, batch_size=32, shuffle=False)\n",
    "\n",
    "# Define a simple CNN model\n",
    "class SimpleCNN(nn.Module):\n",
    "    def __init__(self):\n",
    "        super(SimpleCNN, self).__init__()\n",
    "        self.conv1 = nn.Conv2d(1, 32, kernel_size=3, padding=1)\n",
    "        self.pool = nn.MaxPool2d(kernel_size=2, stride=2, padding=0)\n",
    "        self.conv2 = nn.Conv2d(32, 64, kernel_size=3, padding=1)\n",
    "        self.fc1 = nn.Linear(64 * 2 * 2, 64)\n",
    "        self.fc2 = nn.Linear(64, 10)\n",
    "\n",
    "    def forward(self, x):\n",
    "        x = self.pool(torch.relu(self.conv1(x)))\n",
    "        x = self.pool(torch.relu(self.conv2(x)))\n",
    "        x = x.view(-1, 64 * 2 * 2)\n",
    "        x = torch.relu(self.fc1(x))\n",
    "        x = self.fc2(x)\n",
    "        return x\n",
    "\n",
    "# Initialize the model, loss function, and optimizer\n",
    "model = SimpleCNN()\n",
    "criterion = nn.CrossEntropyLoss()\n",
    "optimizer = optim.Adam(model.parameters(), lr=0.001)\n",
    "\n",
    "# Train the model\n",
    "def train(model, train_loader, criterion, optimizer, epochs=10):\n",
    "    model.train()\n",
    "    for epoch in range(epochs):\n",
    "        running_loss = 0.0\n",
    "        for inputs, labels in train_loader:\n",
    "            optimizer.zero_grad()\n",
    "            outputs = model(inputs)\n",
    "            loss = criterion(outputs, labels)\n",
    "            loss.backward()\n",
    "            optimizer.step()\n",
    "            running_loss += loss.item()\n",
    "        print(f'Epoch [{epoch+1}/{epochs}], Loss: {running_loss/len(train_loader)}')\n",
    "\n",
    "# Evaluate the model\n",
    "def evaluate(model, test_loader):\n",
    "    model.eval()\n",
    "    correct = 0\n",
    "    total = 0\n",
    "    with torch.no_grad():\n",
    "        for inputs, labels in test_loader:\n",
    "            outputs = model(inputs)\n",
    "            _, predicted = torch.max(outputs.data, 1)\n",
    "            total += labels.size(0)\n",
    "            correct += (predicted == labels).sum().item()\n",
    "    return 100 * correct / total\n",
    "\n",
    "# Train and evaluate the original model\n",
    "train(model, train_loader, criterion, optimizer, epochs=10)\n",
    "original_accuracy = evaluate(model, test_loader)\n",
    "print(f'Original Model Accuracy: {original_accuracy}%')\n"
   ]
  },
  {
   "cell_type": "markdown",
   "metadata": {},
   "source": [
    "## Grid"
   ]
  },
  {
   "cell_type": "code",
   "execution_count": 4,
   "metadata": {},
   "outputs": [
    {
     "name": "stdout",
     "output_type": "stream",
     "text": [
      "Epoch [1/10], Loss: 2.2976488873765275\n",
      "Epoch [2/10], Loss: 2.293419651083044\n",
      "Epoch [3/10], Loss: 2.2888335021766455\n",
      "Epoch [4/10], Loss: 2.2836576345804573\n",
      "Epoch [5/10], Loss: 2.2755332250852844\n",
      "Epoch [6/10], Loss: 2.2468390786969983\n",
      "Epoch [7/10], Loss: 2.1448359618315824\n",
      "Epoch [8/10], Loss: 1.7991012850323238\n",
      "Epoch [9/10], Loss: 1.330739266163594\n",
      "Epoch [10/10], Loss: 1.0031772723069061\n",
      "Epoch [1/10], Loss: 2.2995576278583423\n",
      "Epoch [2/10], Loss: 2.290226581934336\n",
      "Epoch [3/10], Loss: 2.288132300248017\n",
      "Epoch [4/10], Loss: 2.282161809302665\n",
      "Epoch [5/10], Loss: 2.262051298811629\n",
      "Epoch [6/10], Loss: 2.1997409382381954\n",
      "Epoch [7/10], Loss: 2.0076274710732536\n",
      "Epoch [8/10], Loss: 1.6776478580526404\n",
      "Epoch [9/10], Loss: 1.3514549667770799\n",
      "Epoch [10/10], Loss: 1.0653400131174036\n",
      "Epoch [1/10], Loss: 2.294901229239799\n",
      "Epoch [2/10], Loss: 2.2911122231870085\n",
      "Epoch [3/10], Loss: 2.290242304673066\n",
      "Epoch [4/10], Loss: 2.288105281623634\n",
      "Epoch [5/10], Loss: 2.282951123005635\n",
      "Epoch [6/10], Loss: 2.277099493387583\n",
      "Epoch [7/10], Loss: 2.257645606994629\n",
      "Epoch [8/10], Loss: 2.192225140494269\n",
      "Epoch [9/10], Loss: 2.024787822285214\n",
      "Epoch [10/10], Loss: 1.6756287652093012\n",
      "Epoch [1/10], Loss: 2.297011710502006\n",
      "Epoch [2/10], Loss: 2.2902572734935864\n",
      "Epoch [3/10], Loss: 2.284720208193805\n",
      "Epoch [4/10], Loss: 2.275077942255381\n",
      "Epoch [5/10], Loss: 2.2414665479917786\n",
      "Epoch [6/10], Loss: 2.132975881164138\n",
      "Epoch [7/10], Loss: 1.8526884317398071\n",
      "Epoch [8/10], Loss: 1.3657708103592332\n",
      "Epoch [9/10], Loss: 1.0013913882745278\n",
      "Epoch [10/10], Loss: 0.8591664691229124\n",
      "Epoch [1/10], Loss: 2.2992633420067863\n",
      "Epoch [2/10], Loss: 2.2916897052043192\n",
      "Epoch [3/10], Loss: 2.2848862828435124\n",
      "Epoch [4/10], Loss: 2.2740051359743685\n",
      "Epoch [5/10], Loss: 2.2330391020388216\n",
      "Epoch [6/10], Loss: 2.121463894844055\n",
      "Epoch [7/10], Loss: 1.8882833848128449\n",
      "Epoch [8/10], Loss: 1.6357729467185769\n",
      "Epoch [9/10], Loss: 1.4265375330641463\n",
      "Epoch [10/10], Loss: 1.2333311374123033\n",
      "Epoch [1/10], Loss: 2.2985873737850704\n",
      "Epoch [2/10], Loss: 2.2918011948869035\n",
      "Epoch [3/10], Loss: 2.289129012339824\n",
      "Epoch [4/10], Loss: 2.2851083729718185\n",
      "Epoch [5/10], Loss: 2.2790536751618258\n",
      "Epoch [6/10], Loss: 2.265919202082866\n",
      "Epoch [7/10], Loss: 2.2048907022218445\n",
      "Epoch [8/10], Loss: 2.039375946328447\n",
      "Epoch [9/10], Loss: 1.762860343262956\n",
      "Epoch [10/10], Loss: 1.4859381269764256\n",
      "Epoch [1/10], Loss: 2.2946257526810103\n",
      "Epoch [2/10], Loss: 2.292149041150067\n",
      "Epoch [3/10], Loss: 2.2881995471748144\n",
      "Epoch [4/10], Loss: 2.2802417471602157\n",
      "Epoch [5/10], Loss: 2.2649288692989864\n",
      "Epoch [6/10], Loss: 2.2129528715803817\n",
      "Epoch [7/10], Loss: 2.0871380535331934\n",
      "Epoch [8/10], Loss: 1.8470698208422274\n",
      "Epoch [9/10], Loss: 1.5948849980895583\n",
      "Epoch [10/10], Loss: 1.3598855894965094\n",
      "Epoch [1/10], Loss: 2.298776098199793\n",
      "Epoch [2/10], Loss: 2.2910101220414445\n",
      "Epoch [3/10], Loss: 2.2855278607961296\n",
      "Epoch [4/10], Loss: 2.276963929872255\n",
      "Epoch [5/10], Loss: 2.2587109449747445\n",
      "Epoch [6/10], Loss: 2.1988104485176705\n",
      "Epoch [7/10], Loss: 2.0415219712901758\n",
      "Epoch [8/10], Loss: 1.7653357273823507\n",
      "Epoch [9/10], Loss: 1.4273893639848039\n",
      "Epoch [10/10], Loss: 1.157056044887852\n",
      "Epoch [1/10], Loss: 2.303668376561758\n",
      "Epoch [2/10], Loss: 2.292698641081114\n",
      "Epoch [3/10], Loss: 2.2872920551815548\n",
      "Epoch [4/10], Loss: 2.2837289668418266\n",
      "Epoch [5/10], Loss: 2.2757882878587052\n",
      "Epoch [6/10], Loss: 2.2493452703630603\n",
      "Epoch [7/10], Loss: 2.173212347803889\n",
      "Epoch [8/10], Loss: 1.9482123336276493\n",
      "Epoch [9/10], Loss: 1.562687999493367\n",
      "Epoch [10/10], Loss: 1.2588137356010642\n",
      "Epoch [1/10], Loss: 2.299393821407009\n",
      "Epoch [2/10], Loss: 2.2910193365973397\n",
      "Epoch [3/10], Loss: 2.2865505540693127\n",
      "Epoch [4/10], Loss: 2.28158704010216\n",
      "Epoch [5/10], Loss: 2.2601004420100033\n",
      "Epoch [6/10], Loss: 2.1921146173734924\n",
      "Epoch [7/10], Loss: 2.017423858513703\n",
      "Epoch [8/10], Loss: 1.6869000711956539\n",
      "Epoch [9/10], Loss: 1.3667034007407524\n",
      "Epoch [10/10], Loss: 1.134998208767659\n"
     ]
    },
    {
     "data": {
      "image/png": "[encoded data removed]",
      "text/plain": [
       "<Figure size 1000x600 with 1 Axes>"
      ]
     },
     "metadata": {},
     "output_type": "display_data"
    },
    {
     "name": "stdout",
     "output_type": "stream",
     "text": [
      "Average Distilled Model Accuracy: 70.66666666666667%\n",
      "Original Model Accuracy: 84.44444444444444%\n"
     ]
    }
   ],
   "source": [
    "\n",
    "n_runs = 10\n",
    "distilled_accuracies = list()\n",
    "original_accuracies = list()\n",
    "\n",
    "for i in range(n_runs):\n",
    "    grid_sampler = gd.GridImageClusterSampler(X_train, y_train, n_clusters=10, n_samples=90)\n",
    "    grid_sampler.cluster_images()\n",
    "    selected_samples = grid_sampler.get_selected_samples()\n",
    "\n",
    "    # Create a new dataset with the selected samples\n",
    "    X_train_distilled = X_train[selected_samples]\n",
    "    y_train_distilled = y_train[selected_samples]\n",
    "\n",
    "    # Create a DataLoader for the distilled dataset\n",
    "    train_distilled_dataset = TensorDataset(torch.tensor(X_train_distilled, dtype=torch.float32), y_train_distilled)\n",
    "    train_distilled_loader = DataLoader(train_distilled_dataset, batch_size=32, shuffle=True)\n",
    "\n",
    "    # Initialize a new model\n",
    "    distilled_model = SimpleCNN()\n",
    "    criterion = nn.CrossEntropyLoss()\n",
    "    optimizer = optim.Adam(distilled_model.parameters(), lr=0.001)\n",
    "\n",
    "    # Train the distilled model\n",
    "    train(distilled_model, train_distilled_loader, criterion, optimizer, epochs=10)\n",
    "    distilled_accuracy = evaluate(distilled_model, test_loader)\n",
    "    distilled_accuracies.append(distilled_accuracy)\n",
    "\n",
    "# plot the results of the every distilled model and the original model\n",
    "plt.figure(figsize=(10, 6))\n",
    "plt.plot(distilled_accuracies, label='Distilled Model')\n",
    "plt.axhline(y=original_accuracy, color='r', linestyle='-', label='Original Model')\n",
    "plt.xlabel('Run')\n",
    "plt.ylabel('Accuracy (%)')\n",
    "plt.title('Distilled Model vs Original Model')\n",
    "plt.legend()\n",
    "plt.show()\n",
    "\n",
    "# print average accuracy of distilled models\n",
    "print(f'Average Distilled Model Accuracy: {np.mean(distilled_accuracies)}%')\n",
    "print(f'Original Model Accuracy: {original_accuracy}%')"
   ]
  },
  {
   "cell_type": "markdown",
   "metadata": {},
   "source": [
    "## Paralelogram"
   ]
  },
  {
   "cell_type": "code",
   "execution_count": 5,
   "metadata": {},
   "outputs": [
    {
     "name": "stdout",
     "output_type": "stream",
     "text": [
      "Epoch [1/10], Loss: 2.296292949367214\n",
      "Epoch [2/10], Loss: 2.29067181896519\n",
      "Epoch [3/10], Loss: 2.286412335730888\n",
      "Epoch [4/10], Loss: 2.2837612242312044\n",
      "Epoch [5/10], Loss: 2.2743148223773852\n",
      "Epoch [6/10], Loss: 2.23684633100355\n",
      "Epoch [7/10], Loss: 2.1072611518808313\n",
      "Epoch [8/10], Loss: 1.8913523570911304\n",
      "Epoch [9/10], Loss: 1.7117367177396208\n",
      "Epoch [10/10], Loss: 1.5712703917477582\n",
      "Epoch [1/10], Loss: 2.306137838879147\n",
      "Epoch [2/10], Loss: 2.294168807364799\n",
      "Epoch [3/10], Loss: 2.2895350134050525\n",
      "Epoch [4/10], Loss: 2.2835409061328784\n",
      "Epoch [5/10], Loss: 2.2771212281407536\n",
      "Epoch [6/10], Loss: 2.2497889222325504\n",
      "Epoch [7/10], Loss: 2.1621882399997197\n",
      "Epoch [8/10], Loss: 1.9103221732216913\n",
      "Epoch [9/10], Loss: 1.4869081071905188\n",
      "Epoch [10/10], Loss: 1.1428377644435779\n",
      "Epoch [1/10], Loss: 2.298321201994612\n",
      "Epoch [2/10], Loss: 2.2923732899330758\n",
      "Epoch [3/10], Loss: 2.2905222789661304\n",
      "Epoch [4/10], Loss: 2.2889645486264616\n",
      "Epoch [5/10], Loss: 2.285476916545146\n",
      "Epoch [6/10], Loss: 2.282241660195428\n",
      "Epoch [7/10], Loss: 2.2721655239930025\n",
      "Epoch [8/10], Loss: 2.238680079176619\n",
      "Epoch [9/10], Loss: 2.136479587168307\n",
      "Epoch [10/10], Loss: 1.9068939073665723\n",
      "Epoch [1/10], Loss: 2.296004127811741\n",
      "Epoch [2/10], Loss: 2.2900489085429423\n",
      "Epoch [3/10], Loss: 2.28506156560537\n",
      "Epoch [4/10], Loss: 2.2815565031927987\n",
      "Epoch [5/10], Loss: 2.2534047204094962\n",
      "Epoch [6/10], Loss: 2.160120909278457\n",
      "Epoch [7/10], Loss: 1.913496065784145\n",
      "Epoch [8/10], Loss: 1.6177185677193306\n",
      "Epoch [9/10], Loss: 1.4339649419526797\n",
      "Epoch [10/10], Loss: 1.265117184535877\n",
      "Epoch [1/10], Loss: 2.29487267056027\n",
      "Epoch [2/10], Loss: 2.290881150477641\n",
      "Epoch [3/10], Loss: 2.2870893027331376\n",
      "Epoch [4/10], Loss: 2.2843609758325525\n",
      "Epoch [5/10], Loss: 2.276991251352671\n",
      "Epoch [6/10], Loss: 2.242030246837719\n",
      "Epoch [7/10], Loss: 2.1115077508462443\n",
      "Epoch [8/10], Loss: 1.8237659608995593\n",
      "Epoch [9/10], Loss: 1.5338628259865013\n",
      "Epoch [10/10], Loss: 1.2886375704327144\n",
      "Epoch [1/10], Loss: 2.2960565992303796\n",
      "Epoch [2/10], Loss: 2.2910325720503524\n",
      "Epoch [3/10], Loss: 2.2864887198886357\n",
      "Epoch [4/10], Loss: 2.2851117301631616\n",
      "Epoch [5/10], Loss: 2.276006949914468\n",
      "Epoch [6/10], Loss: 2.2396669774442106\n",
      "Epoch [7/10], Loss: 2.1277007347828634\n",
      "Epoch [8/10], Loss: 1.8616829917237565\n",
      "Epoch [9/10], Loss: 1.5067071044767224\n",
      "Epoch [10/10], Loss: 1.2124435144501764\n",
      "Epoch [1/10], Loss: 2.3021898914027856\n",
      "Epoch [2/10], Loss: 2.2901431483191415\n",
      "Epoch [3/10], Loss: 2.283121566514711\n",
      "Epoch [4/10], Loss: 2.270672198888418\n",
      "Epoch [5/10], Loss: 2.219715221508129\n",
      "Epoch [6/10], Loss: 2.0981627799369194\n",
      "Epoch [7/10], Loss: 1.9063949584960938\n",
      "Epoch [8/10], Loss: 1.7207437141521558\n",
      "Epoch [9/10], Loss: 1.6025090733089962\n",
      "Epoch [10/10], Loss: 1.4906345154788043\n",
      "Epoch [1/10], Loss: 2.306079200796179\n",
      "Epoch [2/10], Loss: 2.292217783025793\n",
      "Epoch [3/10], Loss: 2.290393623145851\n",
      "Epoch [4/10], Loss: 2.2812981798842147\n",
      "Epoch [5/10], Loss: 2.2634774607581063\n",
      "Epoch [6/10], Loss: 2.1970304798435523\n",
      "Epoch [7/10], Loss: 1.9990237919059959\n",
      "Epoch [8/10], Loss: 1.5597523998569798\n",
      "Epoch [9/10], Loss: 1.1476295687056877\n",
      "Epoch [10/10], Loss: 0.9067072352847537\n",
      "Epoch [1/10], Loss: 2.2956160403586723\n",
      "Epoch [2/10], Loss: 2.2917856912355163\n",
      "Epoch [3/10], Loss: 2.290380890304978\n",
      "Epoch [4/10], Loss: 2.285448248321946\n",
      "Epoch [5/10], Loss: 2.2788257083377323\n",
      "Epoch [6/10], Loss: 2.259191841692538\n",
      "Epoch [7/10], Loss: 2.1944456358213684\n",
      "Epoch [8/10], Loss: 2.0049906131383537\n",
      "Epoch [9/10], Loss: 1.7240995072029732\n",
      "Epoch [10/10], Loss: 1.4938632056519792\n",
      "Epoch [1/10], Loss: 2.302931695371061\n",
      "Epoch [2/10], Loss: 2.2915963611087284\n",
      "Epoch [3/10], Loss: 2.2886911276224495\n",
      "Epoch [4/10], Loss: 2.282178427722003\n",
      "Epoch [5/10], Loss: 2.2746201399210335\n",
      "Epoch [6/10], Loss: 2.252038150220304\n",
      "Epoch [7/10], Loss: 2.182412153965718\n",
      "Epoch [8/10], Loss: 1.9983306059966217\n",
      "Epoch [9/10], Loss: 1.7035999942470241\n",
      "Epoch [10/10], Loss: 1.495448882515366\n"
     ]
    },
    {
     "data": {
      "image/png": "[encoded data removed]",
      "text/plain": [
       "<Figure size 1000x600 with 1 Axes>"
      ]
     },
     "metadata": {},
     "output_type": "display_data"
    },
    {
     "name": "stdout",
     "output_type": "stream",
     "text": [
      "Average Distilled Model Accuracy: 61.94444444444444%\n",
      "Original Model Accuracy: 84.44444444444444%\n"
     ]
    }
   ],
   "source": [
    "\n",
    "n_runs = 10\n",
    "distilled_accuracies = list()\n",
    "original_accuracies = list()\n",
    "\n",
    "for i in range(n_runs):\n",
    "    grid_sampler = gd.ParallelogramImageClusterSampler(X_train, y_train, n_clusters=10, n_samples=90)\n",
    "    grid_sampler.cluster_images()\n",
    "    selected_samples = grid_sampler.get_selected_samples()\n",
    "\n",
    "    # Create a new dataset with the selected samples\n",
    "    X_train_distilled = X_train[selected_samples]\n",
    "    y_train_distilled = y_train[selected_samples]\n",
    "\n",
    "    # Create a DataLoader for the distilled dataset\n",
    "    train_distilled_dataset = TensorDataset(torch.tensor(X_train_distilled, dtype=torch.float32), y_train_distilled)\n",
    "    train_distilled_loader = DataLoader(train_distilled_dataset, batch_size=32, shuffle=True)\n",
    "\n",
    "    # Initialize a new model\n",
    "    distilled_model = SimpleCNN()\n",
    "    criterion = nn.CrossEntropyLoss()\n",
    "    optimizer = optim.Adam(distilled_model.parameters(), lr=0.001)\n",
    "\n",
    "    # Train the distilled model\n",
    "    train(distilled_model, train_distilled_loader, criterion, optimizer, epochs=10)\n",
    "    distilled_accuracy = evaluate(distilled_model, test_loader)\n",
    "    distilled_accuracies.append(distilled_accuracy)\n",
    "\n",
    "# plot the results of the every distilled model and the original model\n",
    "plt.figure(figsize=(10, 6))\n",
    "plt.plot(distilled_accuracies, label='Distilled Model')\n",
    "plt.axhline(y=original_accuracy, color='r', linestyle='-', label='Original Model')\n",
    "plt.xlabel('Run')\n",
    "plt.ylabel('Accuracy (%)')\n",
    "plt.title('Distilled Model vs Original Model')\n",
    "plt.legend()\n",
    "plt.show()\n",
    "\n",
    "# print average accuracy of distilled models\n",
    "print(f'Average Distilled Model Accuracy: {np.mean(distilled_accuracies)}%')\n",
    "print(f'Original Model Accuracy: {original_accuracy}%')\n"
   ]
  },
  {
   "cell_type": "markdown",
   "metadata": {},
   "source": [
    "## Triangular"
   ]
  },
  {
   "cell_type": "code",
   "execution_count": 6,
   "metadata": {},
   "outputs": [
    {
     "name": "stdout",
     "output_type": "stream",
     "text": [
      "Epoch [1/10], Loss: 2.2991380562653414\n",
      "Epoch [2/10], Loss: 2.290404693500416\n",
      "Epoch [3/10], Loss: 2.2907004356384277\n",
      "Epoch [4/10], Loss: 2.287101481411908\n",
      "Epoch [5/10], Loss: 2.283759001139048\n",
      "Epoch [6/10], Loss: 2.2769131209399247\n",
      "Epoch [7/10], Loss: 2.246875808045671\n",
      "Epoch [8/10], Loss: 2.1541523933410645\n",
      "Epoch [9/10], Loss: 1.900098671784272\n",
      "Epoch [10/10], Loss: 1.530766570890272\n",
      "Epoch [1/10], Loss: 2.2987333375054435\n",
      "Epoch [2/10], Loss: 2.2898250914908744\n",
      "Epoch [3/10], Loss: 2.2883271977708146\n",
      "Epoch [4/10], Loss: 2.281622158514487\n",
      "Epoch [5/10], Loss: 2.2696856356955863\n",
      "Epoch [6/10], Loss: 2.2217680699116475\n",
      "Epoch [7/10], Loss: 2.0661842823028564\n",
      "Epoch [8/10], Loss: 1.6566506269815806\n",
      "Epoch [9/10], Loss: 1.1765933568413194\n",
      "Epoch [10/10], Loss: 0.8641916432896176\n",
      "Epoch [1/10], Loss: 2.297115190609081\n",
      "Epoch [2/10], Loss: 2.290617781716424\n",
      "Epoch [3/10], Loss: 2.2886518852130786\n",
      "Epoch [4/10], Loss: 2.2859376958898596\n",
      "Epoch [5/10], Loss: 2.2800694285212337\n",
      "Epoch [6/10], Loss: 2.2699551582336426\n",
      "Epoch [7/10], Loss: 2.2263852132333293\n",
      "Epoch [8/10], Loss: 2.130457085532111\n",
      "Epoch [9/10], Loss: 1.947837294758977\n",
      "Epoch [10/10], Loss: 1.7293837811495807\n",
      "Epoch [1/10], Loss: 2.300690612277469\n",
      "Epoch [2/10], Loss: 2.292238641429592\n",
      "Epoch [3/10], Loss: 2.2907289556554846\n",
      "Epoch [4/10], Loss: 2.2869973762615308\n",
      "Epoch [5/10], Loss: 2.276451201052279\n",
      "Epoch [6/10], Loss: 2.2471478887506433\n",
      "Epoch [7/10], Loss: 2.132479181160798\n",
      "Epoch [8/10], Loss: 1.8490610928148836\n",
      "Epoch [9/10], Loss: 1.5531093784280725\n",
      "Epoch [10/10], Loss: 1.338859493668015\n",
      "Epoch [1/10], Loss: 2.3025503480756604\n",
      "Epoch [2/10], Loss: 2.289812390868728\n",
      "Epoch [3/10], Loss: 2.287649070894396\n",
      "Epoch [4/10], Loss: 2.2844095810039624\n",
      "Epoch [5/10], Loss: 2.273814665304648\n",
      "Epoch [6/10], Loss: 2.2424609661102295\n",
      "Epoch [7/10], Loss: 2.1619589650953137\n",
      "Epoch [8/10], Loss: 1.9506853786674705\n",
      "Epoch [9/10], Loss: 1.6117349701958734\n",
      "Epoch [10/10], Loss: 1.3008953397338454\n",
      "Epoch [1/10], Loss: 2.299153991647669\n",
      "Epoch [2/10], Loss: 2.291129337774741\n",
      "Epoch [3/10], Loss: 2.287066279230891\n",
      "Epoch [4/10], Loss: 2.2800750539109513\n",
      "Epoch [5/10], Loss: 2.2620543660344303\n",
      "Epoch [6/10], Loss: 2.2155511379241943\n",
      "Epoch [7/10], Loss: 2.067444376043371\n",
      "Epoch [8/10], Loss: 1.740897368740391\n",
      "Epoch [9/10], Loss: 1.310033511471104\n",
      "Epoch [10/10], Loss: 1.0108621700389966\n",
      "Epoch [1/10], Loss: 2.2993934670010128\n",
      "Epoch [2/10], Loss: 2.2925748760635787\n",
      "Epoch [3/10], Loss: 2.2871943100078687\n",
      "Epoch [4/10], Loss: 2.2838472289008065\n",
      "Epoch [5/10], Loss: 2.275202467634871\n",
      "Epoch [6/10], Loss: 2.2478777717899634\n",
      "Epoch [7/10], Loss: 2.165755826073724\n",
      "Epoch [8/10], Loss: 1.9156584546372697\n",
      "Epoch [9/10], Loss: 1.472962508330474\n",
      "Epoch [10/10], Loss: 1.1247325297948476\n",
      "Epoch [1/10], Loss: 2.2980722478918127\n",
      "Epoch [2/10], Loss: 2.291375173104776\n",
      "Epoch [3/10], Loss: 2.287712013399279\n",
      "Epoch [4/10], Loss: 2.2796025018434265\n",
      "Epoch [5/10], Loss: 2.247749792562949\n",
      "Epoch [6/10], Loss: 2.1546573542259835\n",
      "Epoch [7/10], Loss: 1.9851848692507357\n",
      "Epoch [8/10], Loss: 1.7984285451270439\n",
      "Epoch [9/10], Loss: 1.6658391791421014\n",
      "Epoch [10/10], Loss: 1.5573179721832275\n",
      "Epoch [1/10], Loss: 2.3026660261927425\n",
      "Epoch [2/10], Loss: 2.291809062700014\n",
      "Epoch [3/10], Loss: 2.2883764279855265\n",
      "Epoch [4/10], Loss: 2.28462367444425\n",
      "Epoch [5/10], Loss: 2.2802715043763855\n",
      "Epoch [6/10], Loss: 2.265482387027225\n",
      "Epoch [7/10], Loss: 2.2103084229134224\n",
      "Epoch [8/10], Loss: 2.0766684654596688\n",
      "Epoch [9/10], Loss: 1.8480393886566162\n",
      "Epoch [10/10], Loss: 1.54792303974564\n",
      "Epoch [1/10], Loss: 2.301102296726124\n",
      "Epoch [2/10], Loss: 2.2918143981211894\n",
      "Epoch [3/10], Loss: 2.2900351962527714\n",
      "Epoch [4/10], Loss: 2.2851865871532544\n",
      "Epoch [5/10], Loss: 2.2838332330858386\n",
      "Epoch [6/10], Loss: 2.2715470275363407\n",
      "Epoch [7/10], Loss: 2.2431860678904765\n",
      "Epoch [8/10], Loss: 2.168035687627019\n",
      "Epoch [9/10], Loss: 1.9608122658085179\n",
      "Epoch [10/10], Loss: 1.6415065108118831\n"
     ]
    },
    {
     "data": {
      "image/png": "[encoded data removed]",
      "text/plain": [
       "<Figure size 1000x600 with 1 Axes>"
      ]
     },
     "metadata": {},
     "output_type": "display_data"
    },
    {
     "name": "stdout",
     "output_type": "stream",
     "text": [
      "Average Distilled Model Accuracy: 66.77777777777777%\n",
      "Original Model Accuracy: 84.44444444444444%\n"
     ]
    }
   ],
   "source": [
    "\n",
    "n_runs = 10\n",
    "distilled_accuracies = list()\n",
    "original_accuracies = list()\n",
    "\n",
    "for i in range(n_runs):\n",
    "    grid_sampler = gd.TriangularImageClusterSampler(X_train, y_train, n_clusters=10, n_samples=90)\n",
    "    grid_sampler.cluster_images()\n",
    "    selected_samples = grid_sampler.get_selected_samples()\n",
    "\n",
    "    # Create a new dataset with the selected samples\n",
    "    X_train_distilled = X_train[selected_samples]\n",
    "    y_train_distilled = y_train[selected_samples]\n",
    "\n",
    "    # Create a DataLoader for the distilled dataset\n",
    "    train_distilled_dataset = TensorDataset(torch.tensor(X_train_distilled, dtype=torch.float32), y_train_distilled)\n",
    "    train_distilled_loader = DataLoader(train_distilled_dataset, batch_size=32, shuffle=True)\n",
    "\n",
    "    # Initialize a new model\n",
    "    distilled_model = SimpleCNN()\n",
    "    criterion = nn.CrossEntropyLoss()\n",
    "    optimizer = optim.Adam(distilled_model.parameters(), lr=0.001)\n",
    "\n",
    "    # Train the distilled model\n",
    "    train(distilled_model, train_distilled_loader, criterion, optimizer, epochs=10)\n",
    "    distilled_accuracy = evaluate(distilled_model, test_loader)\n",
    "    distilled_accuracies.append(distilled_accuracy)\n",
    "\n",
    "# plot the results of the every distilled model and the original model\n",
    "plt.figure(figsize=(10, 6))\n",
    "plt.plot(distilled_accuracies, label='Distilled Model')\n",
    "plt.axhline(y=original_accuracy, color='r', linestyle='-', label='Original Model')\n",
    "plt.xlabel('Run')\n",
    "plt.ylabel('Accuracy (%)')\n",
    "plt.title('Distilled Model vs Original Model')\n",
    "plt.legend()\n",
    "plt.show()\n",
    "\n",
    "# print average accuracy of distilled models\n",
    "print(f'Average Distilled Model Accuracy: {np.mean(distilled_accuracies)}%')\n",
    "print(f'Original Model Accuracy: {original_accuracy}%')\n"
   ]
  },
  {
   "cell_type": "markdown",
   "metadata": {},
   "source": [
    "## Brick"
   ]
  },
  {
   "cell_type": "code",
   "execution_count": 7,
   "metadata": {},
   "outputs": [
    {
     "name": "stdout",
     "output_type": "stream",
     "text": [
      "Epoch [1/10], Loss: 2.2995286954415812\n",
      "Epoch [2/10], Loss: 2.289677703702772\n",
      "Epoch [3/10], Loss: 2.2832439396832442\n",
      "Epoch [4/10], Loss: 2.271658130594202\n",
      "Epoch [5/10], Loss: 2.2215326992241113\n",
      "Epoch [6/10], Loss: 2.1362339934787236\n",
      "Epoch [7/10], Loss: 1.9923749034469191\n",
      "Epoch [8/10], Loss: 1.756393864348128\n",
      "Epoch [9/10], Loss: 1.5763032146402307\n",
      "Epoch [10/10], Loss: 1.371294322851542\n",
      "Epoch [1/10], Loss: 2.2991727558342188\n",
      "Epoch [2/10], Loss: 2.290728826780577\n",
      "Epoch [3/10], Loss: 2.2829592614560514\n",
      "Epoch [4/10], Loss: 2.2677561850161165\n",
      "Epoch [5/10], Loss: 2.201006708918391\n",
      "Epoch [6/10], Loss: 1.995420594473143\n",
      "Epoch [7/10], Loss: 1.6630352542207048\n",
      "Epoch [8/10], Loss: 1.2997080780364372\n",
      "Epoch [9/10], Loss: 1.0360713166159552\n",
      "Epoch [10/10], Loss: 0.8587691058983674\n",
      "Epoch [1/10], Loss: 2.294412999539762\n",
      "Epoch [2/10], Loss: 2.288038679071375\n",
      "Epoch [3/10], Loss: 2.2767470398464718\n",
      "Epoch [4/10], Loss: 2.2298469736769393\n",
      "Epoch [5/10], Loss: 2.065238907530501\n",
      "Epoch [6/10], Loss: 1.830080051679869\n",
      "Epoch [7/10], Loss: 1.6296730975846987\n",
      "Epoch [8/10], Loss: 1.4722669124603271\n",
      "Epoch [9/10], Loss: 1.3065403828749786\n",
      "Epoch [10/10], Loss: 1.137376466312924\n",
      "Epoch [1/10], Loss: 2.299030355505041\n",
      "Epoch [2/10], Loss: 2.2889573960690885\n",
      "Epoch [3/10], Loss: 2.2843018222499536\n",
      "Epoch [4/10], Loss: 2.2650001886728646\n",
      "Epoch [5/10], Loss: 2.18965322262532\n",
      "Epoch [6/10], Loss: 2.0180196117710425\n",
      "Epoch [7/10], Loss: 1.8437477221360077\n",
      "Epoch [8/10], Loss: 1.7403102211050085\n",
      "Epoch [9/10], Loss: 1.6410600591350246\n",
      "Epoch [10/10], Loss: 1.4915349741239805\n",
      "Epoch [1/10], Loss: 2.2997584536268905\n",
      "Epoch [2/10], Loss: 2.290881582208582\n",
      "Epoch [3/10], Loss: 2.2902050276060364\n",
      "Epoch [4/10], Loss: 2.2855913123568974\n",
      "Epoch [5/10], Loss: 2.275307693996945\n",
      "Epoch [6/10], Loss: 2.2515763785388017\n",
      "Epoch [7/10], Loss: 2.1534488619984806\n",
      "Epoch [8/10], Loss: 1.9074591237145502\n",
      "Epoch [9/10], Loss: 1.6435810359748635\n",
      "Epoch [10/10], Loss: 1.400200138220916\n",
      "Epoch [1/10], Loss: 2.2965035502975053\n",
      "Epoch [2/10], Loss: 2.2883819953815356\n",
      "Epoch [3/10], Loss: 2.2859607902733057\n",
      "Epoch [4/10], Loss: 2.277064516737654\n",
      "Epoch [5/10], Loss: 2.2569876554849984\n",
      "Epoch [6/10], Loss: 2.190533734656669\n",
      "Epoch [7/10], Loss: 2.0735552923099414\n",
      "Epoch [8/10], Loss: 1.8637680717416711\n",
      "Epoch [9/10], Loss: 1.6182319473575901\n",
      "Epoch [10/10], Loss: 1.4081876567892126\n",
      "Epoch [1/10], Loss: 2.29806400634147\n",
      "Epoch [2/10], Loss: 2.2919433181350297\n",
      "Epoch [3/10], Loss: 2.2871278427742623\n",
      "Epoch [4/10], Loss: 2.286464433412294\n",
      "Epoch [5/10], Loss: 2.2813014210881413\n",
      "Epoch [6/10], Loss: 2.2601125047013566\n",
      "Epoch [7/10], Loss: 2.1824150858698665\n",
      "Epoch [8/10], Loss: 1.986239633044681\n",
      "Epoch [9/10], Loss: 1.7093078413525142\n",
      "Epoch [10/10], Loss: 1.4593553059809916\n",
      "Epoch [1/10], Loss: 2.2979185581207275\n",
      "Epoch [2/10], Loss: 2.2907362048690385\n",
      "Epoch [3/10], Loss: 2.2871048192720154\n",
      "Epoch [4/10], Loss: 2.2775128145475647\n",
      "Epoch [5/10], Loss: 2.257447249180562\n",
      "Epoch [6/10], Loss: 2.172929744462709\n",
      "Epoch [7/10], Loss: 1.9439225680119283\n",
      "Epoch [8/10], Loss: 1.5607095441302739\n",
      "Epoch [9/10], Loss: 1.2223989303047593\n",
      "Epoch [10/10], Loss: 0.9749039153794985\n",
      "Epoch [1/10], Loss: 2.298380046277433\n",
      "Epoch [2/10], Loss: 2.2885876861778467\n",
      "Epoch [3/10], Loss: 2.2860692642830513\n",
      "Epoch [4/10], Loss: 2.276995794193165\n",
      "Epoch [5/10], Loss: 2.2581168187631144\n",
      "Epoch [6/10], Loss: 2.1937979427543848\n",
      "Epoch [7/10], Loss: 2.002809218458227\n",
      "Epoch [8/10], Loss: 1.7090037481204883\n",
      "Epoch [9/10], Loss: 1.4810015961930558\n",
      "Epoch [10/10], Loss: 1.2755232791642885\n",
      "Epoch [1/10], Loss: 2.298344328596785\n",
      "Epoch [2/10], Loss: 2.291262658866676\n",
      "Epoch [3/10], Loss: 2.2876886097160547\n",
      "Epoch [4/10], Loss: 2.2789551954011658\n",
      "Epoch [5/10], Loss: 2.2414031801997005\n",
      "Epoch [6/10], Loss: 2.1020141163387813\n",
      "Epoch [7/10], Loss: 1.896841661350147\n",
      "Epoch [8/10], Loss: 1.7447360399607066\n",
      "Epoch [9/10], Loss: 1.6469158643000834\n",
      "Epoch [10/10], Loss: 1.5214501683776442\n"
     ]
    },
    {
     "data": {
      "image/png": "[encoded data removed]",
      "text/plain": [
       "<Figure size 1000x600 with 1 Axes>"
      ]
     },
     "metadata": {},
     "output_type": "display_data"
    },
    {
     "name": "stdout",
     "output_type": "stream",
     "text": [
      "Average Distilled Model Accuracy: 67.55555555555557%\n",
      "Original Model Accuracy: 84.44444444444444%\n"
     ]
    }
   ],
   "source": [
    "\n",
    "n_runs = 10\n",
    "distilled_accuracies = list()\n",
    "original_accuracies = list()\n",
    "\n",
    "for i in range(n_runs):\n",
    "    grid_sampler = gd.BrickImageClusterSampler(X_train, y_train, n_clusters=10, n_samples=90)\n",
    "    grid_sampler.cluster_images()\n",
    "    selected_samples = grid_sampler.get_selected_samples()\n",
    "\n",
    "    # Create a new dataset with the selected samples\n",
    "    X_train_distilled = X_train[selected_samples]\n",
    "    y_train_distilled = y_train[selected_samples]\n",
    "\n",
    "    # Create a DataLoader for the distilled dataset\n",
    "    train_distilled_dataset = TensorDataset(torch.tensor(X_train_distilled, dtype=torch.float32), y_train_distilled)\n",
    "    train_distilled_loader = DataLoader(train_distilled_dataset, batch_size=32, shuffle=True)\n",
    "\n",
    "    # Initialize a new model\n",
    "    distilled_model = SimpleCNN()\n",
    "    criterion = nn.CrossEntropyLoss()\n",
    "    optimizer = optim.Adam(distilled_model.parameters(), lr=0.001)\n",
    "\n",
    "    # Train the distilled model\n",
    "    train(distilled_model, train_distilled_loader, criterion, optimizer, epochs=10)\n",
    "    distilled_accuracy = evaluate(distilled_model, test_loader)\n",
    "    distilled_accuracies.append(distilled_accuracy)\n",
    "\n",
    "# plot the results of the every distilled model and the original model\n",
    "plt.figure(figsize=(10, 6))\n",
    "plt.plot(distilled_accuracies, label='Distilled Model')\n",
    "plt.axhline(y=original_accuracy, color='r', linestyle='-', label='Original Model')\n",
    "plt.xlabel('Run')\n",
    "plt.ylabel('Accuracy (%)')\n",
    "plt.title('Distilled Model vs Original Model')\n",
    "plt.legend()\n",
    "plt.show()\n",
    "\n",
    "# print average accuracy of distilled models\n",
    "print(f'Average Distilled Model Accuracy: {np.mean(distilled_accuracies)}%')\n",
    "print(f'Original Model Accuracy: {original_accuracy}%')"
   ]
  },
  {
   "cell_type": "markdown",
   "metadata": {},
   "source": [
    "# Demo - Flowers"
   ]
  },
  {
   "cell_type": "code",
   "execution_count": 8,
   "metadata": {},
   "outputs": [
    {
     "name": "stdout",
     "output_type": "stream",
     "text": [
      "Processing Lilly images...\n",
      "Processing Lotus images...\n",
      "Processing Orchid images...\n",
      "Processing Sunflower images...\n",
      "Processing Tulip images...\n",
      "Epoch 1/10, Loss: 1.3492595224380493\n",
      "Epoch 2/10, Loss: 1.0863560848236085\n",
      "Epoch 3/10, Loss: 0.9331591420173645\n",
      "Epoch 4/10, Loss: 0.7982539350986481\n",
      "Epoch 5/10, Loss: 0.6656167004108429\n",
      "Epoch 6/10, Loss: 0.496019788980484\n",
      "Epoch 7/10, Loss: 0.35509597969055173\n",
      "Epoch 8/10, Loss: 0.2295491020977497\n",
      "Epoch 9/10, Loss: 0.12678360509872436\n",
      "Epoch 10/10, Loss: 0.08980883030593395\n",
      "Original Model Accuracy: 83.9%\n"
     ]
    }
   ],
   "source": [
    "# Define the list of flowers and data directory\n",
    "flowers = ['Lilly', 'Lotus', 'Orchid', 'Sunflower', 'Tulip']\n",
    "data_dir = 'C:\\\\Users\\\\Hp\\\\summer_projects\\\\datasets\\\\flower_images'\n",
    "\n",
    "# Load the dataset\n",
    "dataset = []\n",
    "for i, flower in enumerate(flowers):\n",
    "    print(f'Processing {flower} images...')\n",
    "    flower_dir = os.path.join(data_dir, flower)\n",
    "    for file in os.listdir(flower_dir):\n",
    "        image_path = os.path.join(flower_dir, file)\n",
    "        image = Image.open(image_path)\n",
    "        image = image.resize((128, 128))  # Resize images to (128, 128)\n",
    "        dataset.append((np.array(image), i))\n",
    "\n",
    "# Shuffle the dataset\n",
    "np.random.shuffle(dataset)\n",
    "\n",
    "# Split the dataset into images and labels\n",
    "X = np.array([x[0] for x in dataset], dtype=np.float32) / 255.0\n",
    "y = np.array([x[1] for x in dataset], dtype=np.int64)\n",
    "\n",
    "# Convert images to torch tensors\n",
    "X = torch.tensor(X.transpose(0, 3, 1, 2), dtype=torch.float32)  # Reshape to (N, C, H, W)\n",
    "y = torch.tensor(y, dtype=torch.long)\n",
    "\n",
    "# Split the dataset into train and test sets\n",
    "X_train, X_test, y_train, y_test = train_test_split(X, y, test_size=0.2, random_state=42)\n",
    "\n",
    "# Create DataLoader for training and testing\n",
    "train_dataset = TensorDataset(X_train, y_train)\n",
    "test_dataset = TensorDataset(X_test, y_test)\n",
    "train_loader = DataLoader(train_dataset, batch_size=32, shuffle=True)\n",
    "test_loader = DataLoader(test_dataset, batch_size=32, shuffle=False)\n",
    "\n",
    "# Define the CNN model\n",
    "class SimpleCNN(nn.Module):\n",
    "    def __init__(self):\n",
    "        super(SimpleCNN, self).__init__()\n",
    "        self.conv1 = nn.Conv2d(3, 32, kernel_size=3, padding=1)\n",
    "        self.pool = nn.MaxPool2d(kernel_size=2, stride=2)\n",
    "        self.conv2 = nn.Conv2d(32, 64, kernel_size=3, padding=1)\n",
    "        self.fc1 = nn.Linear(64 * 32 * 32, 64)\n",
    "        self.fc2 = nn.Linear(64, 5)\n",
    "\n",
    "    def forward(self, x):\n",
    "        x = self.pool(torch.relu(self.conv1(x)))\n",
    "        x = self.pool(torch.relu(self.conv2(x)))\n",
    "        x = x.view(-1, 64 * 32 * 32)\n",
    "        x = torch.relu(self.fc1(x))\n",
    "        x = self.fc2(x)\n",
    "        return x\n",
    "\n",
    "# Initialize the model, loss function, and optimizer\n",
    "model = SimpleCNN()\n",
    "criterion = nn.CrossEntropyLoss()\n",
    "optimizer = optim.Adam(model.parameters(), lr=0.001)\n",
    "\n",
    "# Define training function\n",
    "def train(model, dataloader, criterion, optimizer, epochs=10):\n",
    "    model.train()\n",
    "    for epoch in range(epochs):\n",
    "        running_loss = 0.0\n",
    "        for inputs, labels in dataloader:\n",
    "            optimizer.zero_grad()\n",
    "            outputs = model(inputs)\n",
    "            loss = criterion(outputs, labels)\n",
    "            loss.backward()\n",
    "            optimizer.step()\n",
    "            running_loss += loss.item()\n",
    "        print(f'Epoch {epoch+1}/{epochs}, Loss: {running_loss/len(dataloader)}')\n",
    "\n",
    "# Define evaluation function\n",
    "def evaluate(model, dataloader):\n",
    "    model.eval()\n",
    "    correct = 0\n",
    "    total = 0\n",
    "    with torch.no_grad():\n",
    "        for inputs, labels in dataloader:\n",
    "            outputs = model(inputs)\n",
    "            _, predicted = torch.max(outputs.data, 1)\n",
    "            total += labels.size(0)\n",
    "            correct += (predicted == labels).sum().item()\n",
    "    accuracy = 100 * correct / total\n",
    "    return accuracy\n",
    "\n",
    "# Train the model\n",
    "train(model, train_loader, criterion, optimizer, epochs=10)\n",
    "\n",
    "# Evaluate the model\n",
    "accuracy = evaluate(model, test_loader)\n",
    "print(f'Original Model Accuracy: {accuracy}%')\n",
    "# 7m 34.7s - Original Model Accuracy: 85.9%"
   ]
  },
  {
   "cell_type": "markdown",
   "metadata": {},
   "source": [
    "## Grid Distillation"
   ]
  },
  {
   "cell_type": "code",
   "execution_count": 9,
   "metadata": {},
   "outputs": [
    {
     "name": "stderr",
     "output_type": "stream",
     "text": [
      "C:\\Users\\Hp\\AppData\\Local\\Temp\\ipykernel_7344\\111789461.py:15: UserWarning: To copy construct from a tensor, it is recommended to use sourceTensor.clone().detach() or sourceTensor.clone().detach().requires_grad_(True), rather than torch.tensor(sourceTensor).\n",
      "  train_distilled_dataset = TensorDataset(torch.tensor(X_train_distilled, dtype=torch.float32), y_train_distilled)\n"
     ]
    },
    {
     "name": "stdout",
     "output_type": "stream",
     "text": [
      "Epoch 1/10, Loss: 1.403757988859754\n",
      "Epoch 2/10, Loss: 1.0867563245493337\n",
      "Epoch 3/10, Loss: 0.870417611314616\n",
      "Epoch 4/10, Loss: 0.5718707341119784\n",
      "Epoch 5/10, Loss: 0.3132838683390836\n",
      "Epoch 6/10, Loss: 0.1482462984501222\n",
      "Epoch 7/10, Loss: 0.09846897632601338\n",
      "Epoch 8/10, Loss: 0.06415147712847236\n",
      "Epoch 9/10, Loss: 0.05046973150189316\n",
      "Epoch 10/10, Loss: 0.03877739033046597\n"
     ]
    },
    {
     "name": "stderr",
     "output_type": "stream",
     "text": [
      "C:\\Users\\Hp\\AppData\\Local\\Temp\\ipykernel_7344\\111789461.py:15: UserWarning: To copy construct from a tensor, it is recommended to use sourceTensor.clone().detach() or sourceTensor.clone().detach().requires_grad_(True), rather than torch.tensor(sourceTensor).\n",
      "  train_distilled_dataset = TensorDataset(torch.tensor(X_train_distilled, dtype=torch.float32), y_train_distilled)\n"
     ]
    },
    {
     "name": "stdout",
     "output_type": "stream",
     "text": [
      "Epoch 1/10, Loss: 1.3498298017256851\n",
      "Epoch 2/10, Loss: 1.0148804761947843\n",
      "Epoch 3/10, Loss: 0.7611234614608484\n",
      "Epoch 4/10, Loss: 0.5002321551699157\n",
      "Epoch 5/10, Loss: 0.31213876605033875\n",
      "Epoch 6/10, Loss: 0.16884767062483577\n",
      "Epoch 7/10, Loss: 0.09672127865733357\n",
      "Epoch 8/10, Loss: 0.05265422115837215\n",
      "Epoch 9/10, Loss: 0.04333834160213282\n",
      "Epoch 10/10, Loss: 0.02929483303894212\n"
     ]
    },
    {
     "name": "stderr",
     "output_type": "stream",
     "text": [
      "C:\\Users\\Hp\\AppData\\Local\\Temp\\ipykernel_7344\\111789461.py:15: UserWarning: To copy construct from a tensor, it is recommended to use sourceTensor.clone().detach() or sourceTensor.clone().detach().requires_grad_(True), rather than torch.tensor(sourceTensor).\n",
      "  train_distilled_dataset = TensorDataset(torch.tensor(X_train_distilled, dtype=torch.float32), y_train_distilled)\n"
     ]
    },
    {
     "name": "stdout",
     "output_type": "stream",
     "text": [
      "Epoch 1/10, Loss: 1.403020968130969\n",
      "Epoch 2/10, Loss: 1.0312676161801049\n",
      "Epoch 3/10, Loss: 0.789677789451879\n",
      "Epoch 4/10, Loss: 0.5161596040386672\n",
      "Epoch 5/10, Loss: 0.3242165778481632\n",
      "Epoch 6/10, Loss: 0.16151274111839609\n",
      "Epoch 7/10, Loss: 0.09089528660742788\n",
      "Epoch 8/10, Loss: 0.0770304560524608\n",
      "Epoch 9/10, Loss: 0.03807764581443075\n",
      "Epoch 10/10, Loss: 0.03395525138577395\n"
     ]
    },
    {
     "name": "stderr",
     "output_type": "stream",
     "text": [
      "C:\\Users\\Hp\\AppData\\Local\\Temp\\ipykernel_7344\\111789461.py:15: UserWarning: To copy construct from a tensor, it is recommended to use sourceTensor.clone().detach() or sourceTensor.clone().detach().requires_grad_(True), rather than torch.tensor(sourceTensor).\n",
      "  train_distilled_dataset = TensorDataset(torch.tensor(X_train_distilled, dtype=torch.float32), y_train_distilled)\n"
     ]
    },
    {
     "name": "stdout",
     "output_type": "stream",
     "text": [
      "Epoch 1/10, Loss: 1.4970164703666617\n",
      "Epoch 2/10, Loss: 1.1844420340083062\n",
      "Epoch 3/10, Loss: 0.9311934124439134\n",
      "Epoch 4/10, Loss: 0.6096042834837502\n",
      "Epoch 5/10, Loss: 0.34269251612895124\n",
      "Epoch 6/10, Loss: 0.17953429603521978\n",
      "Epoch 7/10, Loss: 0.09343173676982112\n",
      "Epoch 8/10, Loss: 0.053475003240954715\n",
      "Epoch 9/10, Loss: 0.039756554398907844\n",
      "Epoch 10/10, Loss: 0.032034235384845\n"
     ]
    },
    {
     "name": "stderr",
     "output_type": "stream",
     "text": [
      "C:\\Users\\Hp\\AppData\\Local\\Temp\\ipykernel_7344\\111789461.py:15: UserWarning: To copy construct from a tensor, it is recommended to use sourceTensor.clone().detach() or sourceTensor.clone().detach().requires_grad_(True), rather than torch.tensor(sourceTensor).\n",
      "  train_distilled_dataset = TensorDataset(torch.tensor(X_train_distilled, dtype=torch.float32), y_train_distilled)\n"
     ]
    },
    {
     "name": "stdout",
     "output_type": "stream",
     "text": [
      "Epoch 1/10, Loss: 1.3397523405355052\n",
      "Epoch 2/10, Loss: 1.025476048298932\n",
      "Epoch 3/10, Loss: 0.8071055477912273\n",
      "Epoch 4/10, Loss: 0.5281850809077604\n",
      "Epoch 5/10, Loss: 0.3042446338665595\n",
      "Epoch 6/10, Loss: 0.17290714010596275\n",
      "Epoch 7/10, Loss: 0.0937673053063384\n",
      "Epoch 8/10, Loss: 0.06353416011045011\n",
      "Epoch 9/10, Loss: 0.044552158047402396\n",
      "Epoch 10/10, Loss: 0.03985480459646211\n"
     ]
    },
    {
     "name": "stderr",
     "output_type": "stream",
     "text": [
      "C:\\Users\\Hp\\AppData\\Local\\Temp\\ipykernel_7344\\111789461.py:15: UserWarning: To copy construct from a tensor, it is recommended to use sourceTensor.clone().detach() or sourceTensor.clone().detach().requires_grad_(True), rather than torch.tensor(sourceTensor).\n",
      "  train_distilled_dataset = TensorDataset(torch.tensor(X_train_distilled, dtype=torch.float32), y_train_distilled)\n"
     ]
    },
    {
     "name": "stdout",
     "output_type": "stream",
     "text": [
      "Epoch 1/10, Loss: 1.4457497432691242\n",
      "Epoch 2/10, Loss: 1.1227959241342107\n",
      "Epoch 3/10, Loss: 0.7991934719435666\n",
      "Epoch 4/10, Loss: 0.4966439719593853\n",
      "Epoch 5/10, Loss: 0.26014521711189814\n",
      "Epoch 6/10, Loss: 0.1493869875002345\n",
      "Epoch 7/10, Loss: 0.09476802711708283\n",
      "Epoch 8/10, Loss: 0.053487317181628094\n",
      "Epoch 9/10, Loss: 0.04354183585382998\n",
      "Epoch 10/10, Loss: 0.02759902807136297\n"
     ]
    },
    {
     "name": "stderr",
     "output_type": "stream",
     "text": [
      "C:\\Users\\Hp\\AppData\\Local\\Temp\\ipykernel_7344\\111789461.py:15: UserWarning: To copy construct from a tensor, it is recommended to use sourceTensor.clone().detach() or sourceTensor.clone().detach().requires_grad_(True), rather than torch.tensor(sourceTensor).\n",
      "  train_distilled_dataset = TensorDataset(torch.tensor(X_train_distilled, dtype=torch.float32), y_train_distilled)\n"
     ]
    },
    {
     "name": "stdout",
     "output_type": "stream",
     "text": [
      "Epoch 1/10, Loss: 1.4118556735712453\n",
      "Epoch 2/10, Loss: 0.9710629062915067\n",
      "Epoch 3/10, Loss: 0.6872140653089646\n",
      "Epoch 4/10, Loss: 0.38152052605644277\n",
      "Epoch 5/10, Loss: 0.17381294887649631\n",
      "Epoch 6/10, Loss: 0.07970443316692606\n",
      "Epoch 7/10, Loss: 0.045275363135536054\n",
      "Epoch 8/10, Loss: 0.02732330998363093\n",
      "Epoch 9/10, Loss: 0.024353123891568924\n",
      "Epoch 10/10, Loss: 0.01610383026968312\n"
     ]
    },
    {
     "name": "stderr",
     "output_type": "stream",
     "text": [
      "C:\\Users\\Hp\\AppData\\Local\\Temp\\ipykernel_7344\\111789461.py:15: UserWarning: To copy construct from a tensor, it is recommended to use sourceTensor.clone().detach() or sourceTensor.clone().detach().requires_grad_(True), rather than torch.tensor(sourceTensor).\n",
      "  train_distilled_dataset = TensorDataset(torch.tensor(X_train_distilled, dtype=torch.float32), y_train_distilled)\n"
     ]
    },
    {
     "name": "stdout",
     "output_type": "stream",
     "text": [
      "Epoch 1/10, Loss: 1.3432940529027115\n",
      "Epoch 2/10, Loss: 1.0187117036329496\n",
      "Epoch 3/10, Loss: 0.7960023762436088\n",
      "Epoch 4/10, Loss: 0.5207007922437212\n",
      "Epoch 5/10, Loss: 0.31910849273751635\n",
      "Epoch 6/10, Loss: 0.18235672584845933\n",
      "Epoch 7/10, Loss: 0.08938623351309824\n",
      "Epoch 8/10, Loss: 0.057620540419337125\n",
      "Epoch 9/10, Loss: 0.03985853835410618\n",
      "Epoch 10/10, Loss: 0.0318304291774664\n"
     ]
    },
    {
     "name": "stderr",
     "output_type": "stream",
     "text": [
      "C:\\Users\\Hp\\AppData\\Local\\Temp\\ipykernel_7344\\111789461.py:15: UserWarning: To copy construct from a tensor, it is recommended to use sourceTensor.clone().detach() or sourceTensor.clone().detach().requires_grad_(True), rather than torch.tensor(sourceTensor).\n",
      "  train_distilled_dataset = TensorDataset(torch.tensor(X_train_distilled, dtype=torch.float32), y_train_distilled)\n"
     ]
    },
    {
     "name": "stdout",
     "output_type": "stream",
     "text": [
      "Epoch 1/10, Loss: 1.4631689557241738\n",
      "Epoch 2/10, Loss: 1.1142839395671809\n",
      "Epoch 3/10, Loss: 0.8271436155389208\n",
      "Epoch 4/10, Loss: 0.5227642536436746\n",
      "Epoch 5/10, Loss: 0.26117129567497915\n",
      "Epoch 6/10, Loss: 0.11425296828970996\n",
      "Epoch 7/10, Loss: 0.06548698839449554\n",
      "Epoch 8/10, Loss: 0.03415694316943099\n",
      "Epoch 9/10, Loss: 0.017019057819414714\n",
      "Epoch 10/10, Loss: 0.009454059282463543\n"
     ]
    },
    {
     "name": "stderr",
     "output_type": "stream",
     "text": [
      "C:\\Users\\Hp\\AppData\\Local\\Temp\\ipykernel_7344\\111789461.py:15: UserWarning: To copy construct from a tensor, it is recommended to use sourceTensor.clone().detach() or sourceTensor.clone().detach().requires_grad_(True), rather than torch.tensor(sourceTensor).\n",
      "  train_distilled_dataset = TensorDataset(torch.tensor(X_train_distilled, dtype=torch.float32), y_train_distilled)\n"
     ]
    },
    {
     "name": "stdout",
     "output_type": "stream",
     "text": [
      "Epoch 1/10, Loss: 1.364594102999486\n",
      "Epoch 2/10, Loss: 0.9741253754414549\n",
      "Epoch 3/10, Loss: 0.6531694348252147\n",
      "Epoch 4/10, Loss: 0.3717081373164413\n",
      "Epoch 5/10, Loss: 0.17906427503042266\n",
      "Epoch 6/10, Loss: 0.102557009547402\n",
      "Epoch 7/10, Loss: 0.06199835944032177\n",
      "Epoch 8/10, Loss: 0.0475127406016744\n",
      "Epoch 9/10, Loss: 0.03143167736568411\n",
      "Epoch 10/10, Loss: 0.03224124463484409\n"
     ]
    },
    {
     "data": {
      "image/png": "[encoded data removed]",
      "text/plain": [
       "<Figure size 1000x600 with 1 Axes>"
      ]
     },
     "metadata": {},
     "output_type": "display_data"
    },
    {
     "name": "stdout",
     "output_type": "stream",
     "text": [
      "Average Distilled Model Accuracy: 77.99%\n",
      "Original Model Accuracy: 84.44444444444444%\n"
     ]
    }
   ],
   "source": [
    "n_runs = 10\n",
    "distilled_accuracies = list()\n",
    "original_accuracies = list()\n",
    "\n",
    "for i in range(n_runs):\n",
    "    grid_sampler = gd.GridImageClusterSampler(X_train, y_train, n_clusters=10, n_samples=100)\n",
    "    grid_sampler.cluster_images()\n",
    "    selected_samples = grid_sampler.get_selected_samples()\n",
    "\n",
    "    # Create a new dataset with the selected samples\n",
    "    X_train_distilled = X_train[selected_samples]\n",
    "    y_train_distilled = y_train[selected_samples]\n",
    "\n",
    "    # Create a DataLoader for the distilled dataset\n",
    "    train_distilled_dataset = TensorDataset(torch.tensor(X_train_distilled, dtype=torch.float32), y_train_distilled)\n",
    "    train_distilled_loader = DataLoader(train_distilled_dataset, batch_size=32, shuffle=True)\n",
    "\n",
    "    # Initialize a new model\n",
    "    distilled_model = SimpleCNN()\n",
    "    criterion = nn.CrossEntropyLoss()\n",
    "    optimizer = optim.Adam(distilled_model.parameters(), lr=0.001)\n",
    "\n",
    "    # Train the distilled model\n",
    "    train(distilled_model, train_distilled_loader, criterion, optimizer, epochs=10)\n",
    "    distilled_accuracy = evaluate(distilled_model, test_loader)\n",
    "    distilled_accuracies.append(distilled_accuracy)\n",
    "\n",
    "# plot the results of the every distilled model and the original model\n",
    "plt.figure(figsize=(10, 6))\n",
    "plt.plot(distilled_accuracies, label='Distilled Model')\n",
    "plt.axhline(y=original_accuracy, color='r', linestyle='-', label='Original Model')\n",
    "plt.xlabel('Run')\n",
    "plt.ylabel('Accuracy (%)')\n",
    "plt.title('Distilled Model vs Original Model')\n",
    "plt.legend()\n",
    "plt.show()\n",
    "\n",
    "# print average accuracy of distilled models\n",
    "print(f'Average Distilled Model Accuracy: {np.mean(distilled_accuracies)}%')\n",
    "print(f'Original Model Accuracy: {original_accuracy}%')\n"
   ]
  },
  {
   "cell_type": "markdown",
   "metadata": {},
   "source": [
    "## Paralelogram Distillation"
   ]
  },
  {
   "cell_type": "code",
   "execution_count": 10,
   "metadata": {},
   "outputs": [
    {
     "name": "stderr",
     "output_type": "stream",
     "text": [
      "C:\\Users\\Hp\\AppData\\Local\\Temp\\ipykernel_7344\\303079878.py:15: UserWarning: To copy construct from a tensor, it is recommended to use sourceTensor.clone().detach() or sourceTensor.clone().detach().requires_grad_(True), rather than torch.tensor(sourceTensor).\n",
      "  train_distilled_dataset = TensorDataset(torch.tensor(X_train_distilled, dtype=torch.float32), y_train_distilled)\n"
     ]
    },
    {
     "name": "stdout",
     "output_type": "stream",
     "text": [
      "Epoch 1/10, Loss: 1.3325714370526305\n",
      "Epoch 2/10, Loss: 1.0218559749629519\n",
      "Epoch 3/10, Loss: 0.7124689494797943\n",
      "Epoch 4/10, Loss: 0.4559913404764385\n",
      "Epoch 5/10, Loss: 0.2514470655710325\n",
      "Epoch 6/10, Loss: 0.1288569985008841\n",
      "Epoch 7/10, Loss: 0.06799947653273376\n",
      "Epoch 8/10, Loss: 0.03853435343806418\n",
      "Epoch 9/10, Loss: 0.020956753395335457\n",
      "Epoch 10/10, Loss: 0.012423221485949883\n"
     ]
    },
    {
     "name": "stderr",
     "output_type": "stream",
     "text": [
      "C:\\Users\\Hp\\AppData\\Local\\Temp\\ipykernel_7344\\303079878.py:15: UserWarning: To copy construct from a tensor, it is recommended to use sourceTensor.clone().detach() or sourceTensor.clone().detach().requires_grad_(True), rather than torch.tensor(sourceTensor).\n",
      "  train_distilled_dataset = TensorDataset(torch.tensor(X_train_distilled, dtype=torch.float32), y_train_distilled)\n"
     ]
    },
    {
     "name": "stdout",
     "output_type": "stream",
     "text": [
      "Epoch 1/10, Loss: 1.4920581732321223\n",
      "Epoch 2/10, Loss: 1.1444830615586097\n",
      "Epoch 3/10, Loss: 0.9429043504076267\n",
      "Epoch 4/10, Loss: 0.698779403616529\n",
      "Epoch 5/10, Loss: 0.43798414433221206\n",
      "Epoch 6/10, Loss: 0.23513575499757713\n",
      "Epoch 7/10, Loss: 0.12595772433923472\n",
      "Epoch 8/10, Loss: 0.0809946712063745\n",
      "Epoch 9/10, Loss: 0.05591633575840281\n",
      "Epoch 10/10, Loss: 0.05357140645068652\n"
     ]
    },
    {
     "name": "stderr",
     "output_type": "stream",
     "text": [
      "C:\\Users\\Hp\\AppData\\Local\\Temp\\ipykernel_7344\\303079878.py:15: UserWarning: To copy construct from a tensor, it is recommended to use sourceTensor.clone().detach() or sourceTensor.clone().detach().requires_grad_(True), rather than torch.tensor(sourceTensor).\n",
      "  train_distilled_dataset = TensorDataset(torch.tensor(X_train_distilled, dtype=torch.float32), y_train_distilled)\n"
     ]
    },
    {
     "name": "stdout",
     "output_type": "stream",
     "text": [
      "Epoch 1/10, Loss: 1.3165503548919608\n",
      "Epoch 2/10, Loss: 1.0228785812307934\n",
      "Epoch 3/10, Loss: 0.7982906663636549\n",
      "Epoch 4/10, Loss: 0.6113980521849536\n",
      "Epoch 5/10, Loss: 0.3876142231149411\n",
      "Epoch 6/10, Loss: 0.23474780377854995\n",
      "Epoch 7/10, Loss: 0.14586463997806978\n",
      "Epoch 8/10, Loss: 0.101814216600919\n",
      "Epoch 9/10, Loss: 0.06501836937194297\n",
      "Epoch 10/10, Loss: 0.05265440000648346\n"
     ]
    },
    {
     "name": "stderr",
     "output_type": "stream",
     "text": [
      "C:\\Users\\Hp\\AppData\\Local\\Temp\\ipykernel_7344\\303079878.py:15: UserWarning: To copy construct from a tensor, it is recommended to use sourceTensor.clone().detach() or sourceTensor.clone().detach().requires_grad_(True), rather than torch.tensor(sourceTensor).\n",
      "  train_distilled_dataset = TensorDataset(torch.tensor(X_train_distilled, dtype=torch.float32), y_train_distilled)\n"
     ]
    },
    {
     "name": "stdout",
     "output_type": "stream",
     "text": [
      "Epoch 1/10, Loss: 1.4140120033824115\n",
      "Epoch 2/10, Loss: 1.0726333698001476\n",
      "Epoch 3/10, Loss: 0.8321158616641245\n",
      "Epoch 4/10, Loss: 0.6030384337683337\n",
      "Epoch 5/10, Loss: 0.3830450821086901\n",
      "Epoch 6/10, Loss: 0.23375909467902753\n",
      "Epoch 7/10, Loss: 0.13701248408184138\n",
      "Epoch 8/10, Loss: 0.08807335770048133\n",
      "Epoch 9/10, Loss: 0.05370757639741337\n",
      "Epoch 10/10, Loss: 0.030915952016334604\n"
     ]
    },
    {
     "name": "stderr",
     "output_type": "stream",
     "text": [
      "C:\\Users\\Hp\\AppData\\Local\\Temp\\ipykernel_7344\\303079878.py:15: UserWarning: To copy construct from a tensor, it is recommended to use sourceTensor.clone().detach() or sourceTensor.clone().detach().requires_grad_(True), rather than torch.tensor(sourceTensor).\n",
      "  train_distilled_dataset = TensorDataset(torch.tensor(X_train_distilled, dtype=torch.float32), y_train_distilled)\n"
     ]
    },
    {
     "name": "stdout",
     "output_type": "stream",
     "text": [
      "Epoch 1/10, Loss: 1.2468987457249143\n",
      "Epoch 2/10, Loss: 0.9585742398139534\n",
      "Epoch 3/10, Loss: 0.7015313765871416\n",
      "Epoch 4/10, Loss: 0.4585635651142225\n",
      "Epoch 5/10, Loss: 0.2658150276733101\n",
      "Epoch 6/10, Loss: 0.1447129521279707\n",
      "Epoch 7/10, Loss: 0.0877377923338785\n",
      "Epoch 8/10, Loss: 0.04909212427393217\n",
      "Epoch 9/10, Loss: 0.020947573576207964\n",
      "Epoch 10/10, Loss: 0.02443876487220031\n"
     ]
    },
    {
     "name": "stderr",
     "output_type": "stream",
     "text": [
      "C:\\Users\\Hp\\AppData\\Local\\Temp\\ipykernel_7344\\303079878.py:15: UserWarning: To copy construct from a tensor, it is recommended to use sourceTensor.clone().detach() or sourceTensor.clone().detach().requires_grad_(True), rather than torch.tensor(sourceTensor).\n",
      "  train_distilled_dataset = TensorDataset(torch.tensor(X_train_distilled, dtype=torch.float32), y_train_distilled)\n"
     ]
    },
    {
     "name": "stdout",
     "output_type": "stream",
     "text": [
      "Epoch 1/10, Loss: 1.3183970221685708\n",
      "Epoch 2/10, Loss: 1.0280741814079635\n",
      "Epoch 3/10, Loss: 0.8211824166665384\n",
      "Epoch 4/10, Loss: 0.5434012507353354\n",
      "Epoch 5/10, Loss: 0.32469057688199054\n",
      "Epoch 6/10, Loss: 0.18291513683325653\n",
      "Epoch 7/10, Loss: 0.10483710723288289\n",
      "Epoch 8/10, Loss: 0.04806292805726717\n",
      "Epoch 9/10, Loss: 0.030628405853148993\n",
      "Epoch 10/10, Loss: 0.016606232992997138\n"
     ]
    },
    {
     "name": "stderr",
     "output_type": "stream",
     "text": [
      "C:\\Users\\Hp\\AppData\\Local\\Temp\\ipykernel_7344\\303079878.py:15: UserWarning: To copy construct from a tensor, it is recommended to use sourceTensor.clone().detach() or sourceTensor.clone().detach().requires_grad_(True), rather than torch.tensor(sourceTensor).\n",
      "  train_distilled_dataset = TensorDataset(torch.tensor(X_train_distilled, dtype=torch.float32), y_train_distilled)\n"
     ]
    },
    {
     "name": "stdout",
     "output_type": "stream",
     "text": [
      "Epoch 1/10, Loss: 1.3033064817069868\n",
      "Epoch 2/10, Loss: 0.972859078591023\n",
      "Epoch 3/10, Loss: 0.696165542810335\n",
      "Epoch 4/10, Loss: 0.41211161208808966\n",
      "Epoch 5/10, Loss: 0.19486040898829426\n",
      "Epoch 6/10, Loss: 0.10237551330153001\n",
      "Epoch 7/10, Loss: 0.057299463445782114\n",
      "Epoch 8/10, Loss: 0.046256568575482986\n",
      "Epoch 9/10, Loss: 0.05387912908517713\n",
      "Epoch 10/10, Loss: 0.02734538753209379\n"
     ]
    },
    {
     "name": "stderr",
     "output_type": "stream",
     "text": [
      "C:\\Users\\Hp\\AppData\\Local\\Temp\\ipykernel_7344\\303079878.py:15: UserWarning: To copy construct from a tensor, it is recommended to use sourceTensor.clone().detach() or sourceTensor.clone().detach().requires_grad_(True), rather than torch.tensor(sourceTensor).\n",
      "  train_distilled_dataset = TensorDataset(torch.tensor(X_train_distilled, dtype=torch.float32), y_train_distilled)\n"
     ]
    },
    {
     "name": "stdout",
     "output_type": "stream",
     "text": [
      "Epoch 1/10, Loss: 1.4466164123027696\n",
      "Epoch 2/10, Loss: 1.1634751197394975\n",
      "Epoch 3/10, Loss: 0.9405292154998954\n",
      "Epoch 4/10, Loss: 0.6217907306251176\n",
      "Epoch 5/10, Loss: 0.34448344116910884\n",
      "Epoch 6/10, Loss: 0.16483867915193423\n",
      "Epoch 7/10, Loss: 0.0874794065149142\n",
      "Epoch 8/10, Loss: 0.0584648488465389\n",
      "Epoch 9/10, Loss: 0.04262157895926967\n",
      "Epoch 10/10, Loss: 0.03369687035479028\n"
     ]
    },
    {
     "name": "stderr",
     "output_type": "stream",
     "text": [
      "C:\\Users\\Hp\\AppData\\Local\\Temp\\ipykernel_7344\\303079878.py:15: UserWarning: To copy construct from a tensor, it is recommended to use sourceTensor.clone().detach() or sourceTensor.clone().detach().requires_grad_(True), rather than torch.tensor(sourceTensor).\n",
      "  train_distilled_dataset = TensorDataset(torch.tensor(X_train_distilled, dtype=torch.float32), y_train_distilled)\n"
     ]
    },
    {
     "name": "stdout",
     "output_type": "stream",
     "text": [
      "Epoch 1/10, Loss: 1.408739421345772\n",
      "Epoch 2/10, Loss: 1.0618542044534596\n",
      "Epoch 3/10, Loss: 0.7548968174041958\n",
      "Epoch 4/10, Loss: 0.44999466877464855\n",
      "Epoch 5/10, Loss: 0.23375142406706417\n",
      "Epoch 6/10, Loss: 0.11620096870860376\n",
      "Epoch 7/10, Loss: 0.053914711434701716\n",
      "Epoch 8/10, Loss: 0.03884449192331335\n",
      "Epoch 9/10, Loss: 0.035956394202887605\n",
      "Epoch 10/10, Loss: 0.028435483544962396\n"
     ]
    },
    {
     "name": "stderr",
     "output_type": "stream",
     "text": [
      "C:\\Users\\Hp\\AppData\\Local\\Temp\\ipykernel_7344\\303079878.py:15: UserWarning: To copy construct from a tensor, it is recommended to use sourceTensor.clone().detach() or sourceTensor.clone().detach().requires_grad_(True), rather than torch.tensor(sourceTensor).\n",
      "  train_distilled_dataset = TensorDataset(torch.tensor(X_train_distilled, dtype=torch.float32), y_train_distilled)\n"
     ]
    },
    {
     "name": "stdout",
     "output_type": "stream",
     "text": [
      "Epoch 1/10, Loss: 1.3270519638280256\n",
      "Epoch 2/10, Loss: 1.0324424406804076\n",
      "Epoch 3/10, Loss: 0.8836864954834684\n",
      "Epoch 4/10, Loss: 0.7075267111489533\n",
      "Epoch 5/10, Loss: 0.584076170527607\n",
      "Epoch 6/10, Loss: 0.40629887799604225\n",
      "Epoch 7/10, Loss: 0.28547222481681667\n",
      "Epoch 8/10, Loss: 0.19099763968805655\n",
      "Epoch 9/10, Loss: 0.14977195178833577\n",
      "Epoch 10/10, Loss: 0.1055349954617543\n"
     ]
    },
    {
     "data": {
      "image/png": "[encoded data removed]",
      "text/plain": [
       "<Figure size 1000x600 with 1 Axes>"
      ]
     },
     "metadata": {},
     "output_type": "display_data"
    },
    {
     "name": "stdout",
     "output_type": "stream",
     "text": [
      "Average Distilled Model Accuracy: 78.41%\n",
      "Original Model Accuracy: 84.44444444444444%\n"
     ]
    }
   ],
   "source": [
    "n_runs = 10\n",
    "distilled_accuracies = list()\n",
    "original_accuracies = list()\n",
    "\n",
    "for i in range(n_runs):\n",
    "    grid_sampler = gd.ParallelogramImageClusterSampler(X_train, y_train, n_clusters=10, n_samples=100)\n",
    "    grid_sampler.cluster_images()\n",
    "    selected_samples = grid_sampler.get_selected_samples()\n",
    "\n",
    "    # Create a new dataset with the selected samples\n",
    "    X_train_distilled = X_train[selected_samples]\n",
    "    y_train_distilled = y_train[selected_samples]\n",
    "\n",
    "    # Create a DataLoader for the distilled dataset\n",
    "    train_distilled_dataset = TensorDataset(torch.tensor(X_train_distilled, dtype=torch.float32), y_train_distilled)\n",
    "    train_distilled_loader = DataLoader(train_distilled_dataset, batch_size=32, shuffle=True)\n",
    "\n",
    "    # Initialize a new model\n",
    "    distilled_model = SimpleCNN()\n",
    "    criterion = nn.CrossEntropyLoss()\n",
    "    optimizer = optim.Adam(distilled_model.parameters(), lr=0.001)\n",
    "\n",
    "    # Train the distilled model\n",
    "    train(distilled_model, train_distilled_loader, criterion, optimizer, epochs=10)\n",
    "    distilled_accuracy = evaluate(distilled_model, test_loader)\n",
    "    distilled_accuracies.append(distilled_accuracy)\n",
    "\n",
    "# plot the results of the every distilled model and the original model\n",
    "plt.figure(figsize=(10, 6))\n",
    "plt.plot(distilled_accuracies, label='Distilled Model')\n",
    "plt.axhline(y=original_accuracy, color='r', linestyle='-', label='Original Model')\n",
    "plt.xlabel('Run')\n",
    "plt.ylabel('Accuracy (%)')\n",
    "plt.title('Distilled Model vs Original Model')\n",
    "plt.legend()\n",
    "plt.show()\n",
    "\n",
    "# print average accuracy of distilled models\n",
    "print(f'Average Distilled Model Accuracy: {np.mean(distilled_accuracies)}%')\n",
    "print(f'Original Model Accuracy: {original_accuracy}%')\n"
   ]
  },
  {
   "cell_type": "markdown",
   "metadata": {},
   "source": [
    "## Triangular Distillation"
   ]
  },
  {
   "cell_type": "code",
   "execution_count": 11,
   "metadata": {},
   "outputs": [
    {
     "name": "stderr",
     "output_type": "stream",
     "text": [
      "C:\\Users\\Hp\\AppData\\Local\\Temp\\ipykernel_7344\\2379853641.py:15: UserWarning: To copy construct from a tensor, it is recommended to use sourceTensor.clone().detach() or sourceTensor.clone().detach().requires_grad_(True), rather than torch.tensor(sourceTensor).\n",
      "  train_distilled_dataset = TensorDataset(torch.tensor(X_train_distilled, dtype=torch.float32), y_train_distilled)\n"
     ]
    },
    {
     "name": "stdout",
     "output_type": "stream",
     "text": [
      "Epoch 1/10, Loss: 1.5083293521076166\n",
      "Epoch 2/10, Loss: 1.085373374847097\n",
      "Epoch 3/10, Loss: 0.8459150648991997\n",
      "Epoch 4/10, Loss: 0.6237812758585729\n",
      "Epoch 5/10, Loss: 0.39155070333305847\n",
      "Epoch 6/10, Loss: 0.22136949959698074\n",
      "Epoch 7/10, Loss: 0.10124115883415445\n",
      "Epoch 8/10, Loss: 0.06619620940075555\n",
      "Epoch 9/10, Loss: 0.03417801882200148\n",
      "Epoch 10/10, Loss: 0.026718299928838986\n"
     ]
    },
    {
     "name": "stderr",
     "output_type": "stream",
     "text": [
      "C:\\Users\\Hp\\AppData\\Local\\Temp\\ipykernel_7344\\2379853641.py:15: UserWarning: To copy construct from a tensor, it is recommended to use sourceTensor.clone().detach() or sourceTensor.clone().detach().requires_grad_(True), rather than torch.tensor(sourceTensor).\n",
      "  train_distilled_dataset = TensorDataset(torch.tensor(X_train_distilled, dtype=torch.float32), y_train_distilled)\n"
     ]
    },
    {
     "name": "stdout",
     "output_type": "stream",
     "text": [
      "Epoch 1/10, Loss: 1.2967147996666235\n",
      "Epoch 2/10, Loss: 0.98012109141831\n",
      "Epoch 3/10, Loss: 0.7260045878110676\n",
      "Epoch 4/10, Loss: 0.4541873637962779\n",
      "Epoch 5/10, Loss: 0.25566162483407817\n",
      "Epoch 6/10, Loss: 0.13160300304378392\n",
      "Epoch 7/10, Loss: 0.08618333571752824\n",
      "Epoch 8/10, Loss: 0.0594756756396537\n",
      "Epoch 9/10, Loss: 0.04546714369677554\n",
      "Epoch 10/10, Loss: 0.03479903464957457\n"
     ]
    },
    {
     "name": "stderr",
     "output_type": "stream",
     "text": [
      "C:\\Users\\Hp\\AppData\\Local\\Temp\\ipykernel_7344\\2379853641.py:15: UserWarning: To copy construct from a tensor, it is recommended to use sourceTensor.clone().detach() or sourceTensor.clone().detach().requires_grad_(True), rather than torch.tensor(sourceTensor).\n",
      "  train_distilled_dataset = TensorDataset(torch.tensor(X_train_distilled, dtype=torch.float32), y_train_distilled)\n"
     ]
    },
    {
     "name": "stdout",
     "output_type": "stream",
     "text": [
      "Epoch 1/10, Loss: 1.2952087625451045\n",
      "Epoch 2/10, Loss: 0.9778174041608058\n",
      "Epoch 3/10, Loss: 0.7080400886885617\n",
      "Epoch 4/10, Loss: 0.45464145467368833\n",
      "Epoch 5/10, Loss: 0.22592525344786293\n",
      "Epoch 6/10, Loss: 0.11164968882883908\n",
      "Epoch 7/10, Loss: 0.046276937939500044\n",
      "Epoch 8/10, Loss: 0.03459042715498272\n",
      "Epoch 9/10, Loss: 0.0324471236095516\n",
      "Epoch 10/10, Loss: 0.021626118472307373\n"
     ]
    },
    {
     "name": "stderr",
     "output_type": "stream",
     "text": [
      "C:\\Users\\Hp\\AppData\\Local\\Temp\\ipykernel_7344\\2379853641.py:15: UserWarning: To copy construct from a tensor, it is recommended to use sourceTensor.clone().detach() or sourceTensor.clone().detach().requires_grad_(True), rather than torch.tensor(sourceTensor).\n",
      "  train_distilled_dataset = TensorDataset(torch.tensor(X_train_distilled, dtype=torch.float32), y_train_distilled)\n"
     ]
    },
    {
     "name": "stdout",
     "output_type": "stream",
     "text": [
      "Epoch 1/10, Loss: 1.337391178542321\n",
      "Epoch 2/10, Loss: 1.0212774850906583\n",
      "Epoch 3/10, Loss: 0.7845083801844798\n",
      "Epoch 4/10, Loss: 0.542656773274098\n",
      "Epoch 5/10, Loss: 0.3383858174495741\n",
      "Epoch 6/10, Loss: 0.18606685105403628\n",
      "Epoch 7/10, Loss: 0.11871752681193548\n",
      "Epoch 8/10, Loss: 0.05248544951302743\n",
      "Epoch 9/10, Loss: 0.041312269652860424\n",
      "Epoch 10/10, Loss: 0.03088618799565582\n"
     ]
    },
    {
     "name": "stderr",
     "output_type": "stream",
     "text": [
      "C:\\Users\\Hp\\AppData\\Local\\Temp\\ipykernel_7344\\2379853641.py:15: UserWarning: To copy construct from a tensor, it is recommended to use sourceTensor.clone().detach() or sourceTensor.clone().detach().requires_grad_(True), rather than torch.tensor(sourceTensor).\n",
      "  train_distilled_dataset = TensorDataset(torch.tensor(X_train_distilled, dtype=torch.float32), y_train_distilled)\n"
     ]
    },
    {
     "name": "stdout",
     "output_type": "stream",
     "text": [
      "Epoch 1/10, Loss: 1.3465066907602712\n",
      "Epoch 2/10, Loss: 0.9780547093907628\n",
      "Epoch 3/10, Loss: 0.6509168093357611\n",
      "Epoch 4/10, Loss: 0.3632334865834735\n",
      "Epoch 5/10, Loss: 0.1835019744317466\n",
      "Epoch 6/10, Loss: 0.09962809364388295\n",
      "Epoch 7/10, Loss: 0.061612533841179595\n",
      "Epoch 8/10, Loss: 0.041714233448814364\n",
      "Epoch 9/10, Loss: 0.04913965310610899\n",
      "Epoch 10/10, Loss: 0.03169028305687831\n"
     ]
    },
    {
     "name": "stderr",
     "output_type": "stream",
     "text": [
      "C:\\Users\\Hp\\AppData\\Local\\Temp\\ipykernel_7344\\2379853641.py:15: UserWarning: To copy construct from a tensor, it is recommended to use sourceTensor.clone().detach() or sourceTensor.clone().detach().requires_grad_(True), rather than torch.tensor(sourceTensor).\n",
      "  train_distilled_dataset = TensorDataset(torch.tensor(X_train_distilled, dtype=torch.float32), y_train_distilled)\n"
     ]
    },
    {
     "name": "stdout",
     "output_type": "stream",
     "text": [
      "Epoch 1/10, Loss: 1.2812594065972425\n",
      "Epoch 2/10, Loss: 0.9063925199005582\n",
      "Epoch 3/10, Loss: 0.5591573391212236\n",
      "Epoch 4/10, Loss: 0.2737789755567498\n",
      "Epoch 5/10, Loss: 0.1177173671269909\n",
      "Epoch 6/10, Loss: 0.06142542599230458\n",
      "Epoch 7/10, Loss: 0.04063822040782917\n",
      "Epoch 8/10, Loss: 0.034514676886311636\n",
      "Epoch 9/10, Loss: 0.023897455621792706\n",
      "Epoch 10/10, Loss: 0.07102955422799932\n"
     ]
    },
    {
     "name": "stderr",
     "output_type": "stream",
     "text": [
      "C:\\Users\\Hp\\AppData\\Local\\Temp\\ipykernel_7344\\2379853641.py:15: UserWarning: To copy construct from a tensor, it is recommended to use sourceTensor.clone().detach() or sourceTensor.clone().detach().requires_grad_(True), rather than torch.tensor(sourceTensor).\n",
      "  train_distilled_dataset = TensorDataset(torch.tensor(X_train_distilled, dtype=torch.float32), y_train_distilled)\n"
     ]
    },
    {
     "name": "stdout",
     "output_type": "stream",
     "text": [
      "Epoch 1/10, Loss: 1.3380253314971924\n",
      "Epoch 2/10, Loss: 1.0577779565382441\n",
      "Epoch 3/10, Loss: 0.8389153871514382\n",
      "Epoch 4/10, Loss: 0.5916507369881376\n",
      "Epoch 5/10, Loss: 0.3144784193793568\n",
      "Epoch 6/10, Loss: 0.20304656708869365\n",
      "Epoch 7/10, Loss: 0.1059916399145892\n",
      "Epoch 8/10, Loss: 0.06085974817941769\n",
      "Epoch 9/10, Loss: 0.051761661297342644\n",
      "Epoch 10/10, Loss: 0.04754182180910961\n"
     ]
    },
    {
     "name": "stderr",
     "output_type": "stream",
     "text": [
      "C:\\Users\\Hp\\AppData\\Local\\Temp\\ipykernel_7344\\2379853641.py:15: UserWarning: To copy construct from a tensor, it is recommended to use sourceTensor.clone().detach() or sourceTensor.clone().detach().requires_grad_(True), rather than torch.tensor(sourceTensor).\n",
      "  train_distilled_dataset = TensorDataset(torch.tensor(X_train_distilled, dtype=torch.float32), y_train_distilled)\n"
     ]
    },
    {
     "name": "stdout",
     "output_type": "stream",
     "text": [
      "Epoch 1/10, Loss: 1.3241268292479558\n",
      "Epoch 2/10, Loss: 0.9281977765057066\n",
      "Epoch 3/10, Loss: 0.6199196880563683\n",
      "Epoch 4/10, Loss: 0.3272180147127274\n",
      "Epoch 5/10, Loss: 0.16063039573849341\n",
      "Epoch 6/10, Loss: 0.09230952732448697\n",
      "Epoch 7/10, Loss: 0.042929914102829786\n",
      "Epoch 8/10, Loss: 0.04066662697565802\n",
      "Epoch 9/10, Loss: 0.02226797252153303\n",
      "Epoch 10/10, Loss: 0.028377690565571566\n"
     ]
    },
    {
     "name": "stderr",
     "output_type": "stream",
     "text": [
      "C:\\Users\\Hp\\AppData\\Local\\Temp\\ipykernel_7344\\2379853641.py:15: UserWarning: To copy construct from a tensor, it is recommended to use sourceTensor.clone().detach() or sourceTensor.clone().detach().requires_grad_(True), rather than torch.tensor(sourceTensor).\n",
      "  train_distilled_dataset = TensorDataset(torch.tensor(X_train_distilled, dtype=torch.float32), y_train_distilled)\n"
     ]
    },
    {
     "name": "stdout",
     "output_type": "stream",
     "text": [
      "Epoch 1/10, Loss: 1.3362432417519596\n",
      "Epoch 2/10, Loss: 0.9866351036850466\n",
      "Epoch 3/10, Loss: 0.7627748475162262\n",
      "Epoch 4/10, Loss: 0.5018143257416716\n",
      "Epoch 5/10, Loss: 0.27008560170000845\n",
      "Epoch 6/10, Loss: 0.13361059805942238\n",
      "Epoch 7/10, Loss: 0.10323911463551291\n",
      "Epoch 8/10, Loss: 0.062959314298329\n",
      "Epoch 9/10, Loss: 0.028647458575956457\n",
      "Epoch 10/10, Loss: 0.026894663571627862\n"
     ]
    },
    {
     "name": "stderr",
     "output_type": "stream",
     "text": [
      "C:\\Users\\Hp\\AppData\\Local\\Temp\\ipykernel_7344\\2379853641.py:15: UserWarning: To copy construct from a tensor, it is recommended to use sourceTensor.clone().detach() or sourceTensor.clone().detach().requires_grad_(True), rather than torch.tensor(sourceTensor).\n",
      "  train_distilled_dataset = TensorDataset(torch.tensor(X_train_distilled, dtype=torch.float32), y_train_distilled)\n"
     ]
    },
    {
     "name": "stdout",
     "output_type": "stream",
     "text": [
      "Epoch 1/10, Loss: 1.3574946150867218\n",
      "Epoch 2/10, Loss: 1.0358538042514696\n",
      "Epoch 3/10, Loss: 0.8326856638860265\n",
      "Epoch 4/10, Loss: 0.5822887502679037\n",
      "Epoch 5/10, Loss: 0.31209995522411593\n",
      "Epoch 6/10, Loss: 0.16135572686518004\n",
      "Epoch 7/10, Loss: 0.08200230968928118\n",
      "Epoch 8/10, Loss: 0.04602825755697735\n",
      "Epoch 9/10, Loss: 0.02619517242125825\n",
      "Epoch 10/10, Loss: 0.021446779196218953\n"
     ]
    },
    {
     "data": {
      "image/png": "[encoded data removed]",
      "text/plain": [
       "<Figure size 1000x600 with 1 Axes>"
      ]
     },
     "metadata": {},
     "output_type": "display_data"
    },
    {
     "name": "stdout",
     "output_type": "stream",
     "text": [
      "Average Distilled Model Accuracy: 78.98999999999998%\n",
      "Original Model Accuracy: 84.44444444444444%\n"
     ]
    }
   ],
   "source": [
    "n_runs = 10\n",
    "distilled_accuracies = list()\n",
    "original_accuracies = list()\n",
    "\n",
    "for i in range(n_runs):\n",
    "    grid_sampler = gd.TriangularImageClusterSampler(X_train, y_train, n_clusters=10, n_samples=100)\n",
    "    grid_sampler.cluster_images()\n",
    "    selected_samples = grid_sampler.get_selected_samples()\n",
    "\n",
    "    # Create a new dataset with the selected samples\n",
    "    X_train_distilled = X_train[selected_samples]\n",
    "    y_train_distilled = y_train[selected_samples]\n",
    "\n",
    "    # Create a DataLoader for the distilled dataset\n",
    "    train_distilled_dataset = TensorDataset(torch.tensor(X_train_distilled, dtype=torch.float32), y_train_distilled)\n",
    "    train_distilled_loader = DataLoader(train_distilled_dataset, batch_size=32, shuffle=True)\n",
    "\n",
    "    # Initialize a new model\n",
    "    distilled_model = SimpleCNN()\n",
    "    criterion = nn.CrossEntropyLoss()\n",
    "    optimizer = optim.Adam(distilled_model.parameters(), lr=0.001)\n",
    "\n",
    "    # Train the distilled model\n",
    "    train(distilled_model, train_distilled_loader, criterion, optimizer, epochs=10)\n",
    "    distilled_accuracy = evaluate(distilled_model, test_loader)\n",
    "    distilled_accuracies.append(distilled_accuracy)\n",
    "\n",
    "# plot the results of the every distilled model and the original model\n",
    "plt.figure(figsize=(10, 6))\n",
    "plt.plot(distilled_accuracies, label='Distilled Model')\n",
    "plt.axhline(y=original_accuracy, color='r', linestyle='-', label='Original Model')\n",
    "plt.xlabel('Run')\n",
    "plt.ylabel('Accuracy (%)')\n",
    "plt.title('Distilled Model vs Original Model')\n",
    "plt.legend()\n",
    "plt.show()\n",
    "\n",
    "# print average accuracy of distilled models\n",
    "print(f'Average Distilled Model Accuracy: {np.mean(distilled_accuracies)}%')\n",
    "print(f'Original Model Accuracy: {original_accuracy}%')\n"
   ]
  },
  {
   "cell_type": "markdown",
   "metadata": {},
   "source": [
    "## Brick Distillation"
   ]
  },
  {
   "cell_type": "code",
   "execution_count": 12,
   "metadata": {},
   "outputs": [
    {
     "name": "stderr",
     "output_type": "stream",
     "text": [
      "C:\\Users\\Hp\\AppData\\Local\\Temp\\ipykernel_7344\\4071374373.py:15: UserWarning: To copy construct from a tensor, it is recommended to use sourceTensor.clone().detach() or sourceTensor.clone().detach().requires_grad_(True), rather than torch.tensor(sourceTensor).\n",
      "  train_distilled_dataset = TensorDataset(torch.tensor(X_train_distilled, dtype=torch.float32), y_train_distilled)\n"
     ]
    },
    {
     "name": "stdout",
     "output_type": "stream",
     "text": [
      "Epoch 1/10, Loss: 1.268312312047416\n",
      "Epoch 2/10, Loss: 0.9155426167566841\n",
      "Epoch 3/10, Loss: 0.6498574360248146\n",
      "Epoch 4/10, Loss: 0.4104491175588118\n",
      "Epoch 5/10, Loss: 0.20650038143636984\n",
      "Epoch 6/10, Loss: 0.10363522682919962\n",
      "Epoch 7/10, Loss: 0.061919164049242616\n",
      "Epoch 8/10, Loss: 0.03769841829075589\n",
      "Epoch 9/10, Loss: 0.032286481927533486\n",
      "Epoch 10/10, Loss: 0.05694544949534631\n"
     ]
    },
    {
     "name": "stderr",
     "output_type": "stream",
     "text": [
      "C:\\Users\\Hp\\AppData\\Local\\Temp\\ipykernel_7344\\4071374373.py:15: UserWarning: To copy construct from a tensor, it is recommended to use sourceTensor.clone().detach() or sourceTensor.clone().detach().requires_grad_(True), rather than torch.tensor(sourceTensor).\n",
      "  train_distilled_dataset = TensorDataset(torch.tensor(X_train_distilled, dtype=torch.float32), y_train_distilled)\n"
     ]
    },
    {
     "name": "stdout",
     "output_type": "stream",
     "text": [
      "Epoch 1/10, Loss: 1.2932992572084478\n",
      "Epoch 2/10, Loss: 0.9692750190376141\n",
      "Epoch 3/10, Loss: 0.6655841070577639\n",
      "Epoch 4/10, Loss: 0.36732460633603803\n",
      "Epoch 5/10, Loss: 0.1663268114687926\n",
      "Epoch 6/10, Loss: 0.08778916895731327\n",
      "Epoch 7/10, Loss: 0.04895328073185621\n",
      "Epoch 8/10, Loss: 0.026377287481851672\n",
      "Epoch 9/10, Loss: 0.021114311067797584\n",
      "Epoch 10/10, Loss: 0.012609275159908784\n"
     ]
    },
    {
     "name": "stderr",
     "output_type": "stream",
     "text": [
      "C:\\Users\\Hp\\AppData\\Local\\Temp\\ipykernel_7344\\4071374373.py:15: UserWarning: To copy construct from a tensor, it is recommended to use sourceTensor.clone().detach() or sourceTensor.clone().detach().requires_grad_(True), rather than torch.tensor(sourceTensor).\n",
      "  train_distilled_dataset = TensorDataset(torch.tensor(X_train_distilled, dtype=torch.float32), y_train_distilled)\n"
     ]
    },
    {
     "name": "stdout",
     "output_type": "stream",
     "text": [
      "Epoch 1/10, Loss: 1.3421963732176965\n",
      "Epoch 2/10, Loss: 1.0184263286240605\n",
      "Epoch 3/10, Loss: 0.7709813358586862\n",
      "Epoch 4/10, Loss: 0.4629028048537193\n",
      "Epoch 5/10, Loss: 0.23517391970808352\n",
      "Epoch 6/10, Loss: 0.11237274807527525\n",
      "Epoch 7/10, Loss: 0.0651404954954435\n",
      "Epoch 8/10, Loss: 0.05428946191667143\n",
      "Epoch 9/10, Loss: 0.03365942918900571\n",
      "Epoch 10/10, Loss: 0.02582032481046103\n"
     ]
    },
    {
     "name": "stderr",
     "output_type": "stream",
     "text": [
      "C:\\Users\\Hp\\AppData\\Local\\Temp\\ipykernel_7344\\4071374373.py:15: UserWarning: To copy construct from a tensor, it is recommended to use sourceTensor.clone().detach() or sourceTensor.clone().detach().requires_grad_(True), rather than torch.tensor(sourceTensor).\n",
      "  train_distilled_dataset = TensorDataset(torch.tensor(X_train_distilled, dtype=torch.float32), y_train_distilled)\n"
     ]
    },
    {
     "name": "stdout",
     "output_type": "stream",
     "text": [
      "Epoch 1/10, Loss: 1.3509999065224183\n",
      "Epoch 2/10, Loss: 0.9993167013750164\n",
      "Epoch 3/10, Loss: 0.6985264770481565\n",
      "Epoch 4/10, Loss: 0.4285855913927796\n",
      "Epoch 5/10, Loss: 0.24453620838189344\n",
      "Epoch 6/10, Loss: 0.1315834619309924\n",
      "Epoch 7/10, Loss: 0.07207896474988089\n",
      "Epoch 8/10, Loss: 0.052679462187470646\n",
      "Epoch 9/10, Loss: 0.0311950976926184\n",
      "Epoch 10/10, Loss: 0.03350863624428219\n"
     ]
    },
    {
     "name": "stderr",
     "output_type": "stream",
     "text": [
      "C:\\Users\\Hp\\AppData\\Local\\Temp\\ipykernel_7344\\4071374373.py:15: UserWarning: To copy construct from a tensor, it is recommended to use sourceTensor.clone().detach() or sourceTensor.clone().detach().requires_grad_(True), rather than torch.tensor(sourceTensor).\n",
      "  train_distilled_dataset = TensorDataset(torch.tensor(X_train_distilled, dtype=torch.float32), y_train_distilled)\n"
     ]
    },
    {
     "name": "stdout",
     "output_type": "stream",
     "text": [
      "Epoch 1/10, Loss: 1.3424938966374877\n",
      "Epoch 2/10, Loss: 0.9593716001291888\n",
      "Epoch 3/10, Loss: 0.6199920346977514\n",
      "Epoch 4/10, Loss: 0.31755561190187387\n",
      "Epoch 5/10, Loss: 0.16670735670817555\n",
      "Epoch 6/10, Loss: 0.08019549893471625\n",
      "Epoch 7/10, Loss: 0.054350003377970205\n",
      "Epoch 8/10, Loss: 0.04327162987351794\n",
      "Epoch 9/10, Loss: 0.024452910696609167\n",
      "Epoch 10/10, Loss: 0.029412273926352827\n"
     ]
    },
    {
     "name": "stderr",
     "output_type": "stream",
     "text": [
      "C:\\Users\\Hp\\AppData\\Local\\Temp\\ipykernel_7344\\4071374373.py:15: UserWarning: To copy construct from a tensor, it is recommended to use sourceTensor.clone().detach() or sourceTensor.clone().detach().requires_grad_(True), rather than torch.tensor(sourceTensor).\n",
      "  train_distilled_dataset = TensorDataset(torch.tensor(X_train_distilled, dtype=torch.float32), y_train_distilled)\n"
     ]
    },
    {
     "name": "stdout",
     "output_type": "stream",
     "text": [
      "Epoch 1/10, Loss: 1.3920019279926195\n",
      "Epoch 2/10, Loss: 1.1068561427090147\n",
      "Epoch 3/10, Loss: 0.927538418988569\n",
      "Epoch 4/10, Loss: 0.7226378682556502\n",
      "Epoch 5/10, Loss: 0.5077666023729044\n",
      "Epoch 6/10, Loss: 0.3066929202492631\n",
      "Epoch 7/10, Loss: 0.19852629808042574\n",
      "Epoch 8/10, Loss: 0.13143569661663213\n",
      "Epoch 9/10, Loss: 0.07370973376283815\n",
      "Epoch 10/10, Loss: 0.046719254814771884\n"
     ]
    },
    {
     "name": "stderr",
     "output_type": "stream",
     "text": [
      "C:\\Users\\Hp\\AppData\\Local\\Temp\\ipykernel_7344\\4071374373.py:15: UserWarning: To copy construct from a tensor, it is recommended to use sourceTensor.clone().detach() or sourceTensor.clone().detach().requires_grad_(True), rather than torch.tensor(sourceTensor).\n",
      "  train_distilled_dataset = TensorDataset(torch.tensor(X_train_distilled, dtype=torch.float32), y_train_distilled)\n"
     ]
    },
    {
     "name": "stdout",
     "output_type": "stream",
     "text": [
      "Epoch 1/10, Loss: 1.3158643705035569\n",
      "Epoch 2/10, Loss: 0.9215810555930531\n",
      "Epoch 3/10, Loss: 0.6168014541131641\n",
      "Epoch 4/10, Loss: 0.3579564460920631\n",
      "Epoch 5/10, Loss: 0.1699765127904098\n",
      "Epoch 6/10, Loss: 0.07438150434882952\n",
      "Epoch 7/10, Loss: 0.04833427861913902\n",
      "Epoch 8/10, Loss: 0.03861831751686239\n",
      "Epoch 9/10, Loss: 0.027693432127232364\n",
      "Epoch 10/10, Loss: 0.02029920197700774\n"
     ]
    },
    {
     "name": "stderr",
     "output_type": "stream",
     "text": [
      "C:\\Users\\Hp\\AppData\\Local\\Temp\\ipykernel_7344\\4071374373.py:15: UserWarning: To copy construct from a tensor, it is recommended to use sourceTensor.clone().detach() or sourceTensor.clone().detach().requires_grad_(True), rather than torch.tensor(sourceTensor).\n",
      "  train_distilled_dataset = TensorDataset(torch.tensor(X_train_distilled, dtype=torch.float32), y_train_distilled)\n"
     ]
    },
    {
     "name": "stdout",
     "output_type": "stream",
     "text": [
      "Epoch 1/10, Loss: 1.3191611630107285\n",
      "Epoch 2/10, Loss: 0.9928350886073681\n",
      "Epoch 3/10, Loss: 0.7422489119232247\n",
      "Epoch 4/10, Loss: 0.46001904177556346\n",
      "Epoch 5/10, Loss: 0.2587617393070405\n",
      "Epoch 6/10, Loss: 0.12909135275409309\n",
      "Epoch 7/10, Loss: 0.07765025821933096\n",
      "Epoch 8/10, Loss: 0.03837870978622125\n",
      "Epoch 9/10, Loss: 0.033068839326039504\n",
      "Epoch 10/10, Loss: 0.01862364096156911\n"
     ]
    },
    {
     "name": "stderr",
     "output_type": "stream",
     "text": [
      "C:\\Users\\Hp\\AppData\\Local\\Temp\\ipykernel_7344\\4071374373.py:15: UserWarning: To copy construct from a tensor, it is recommended to use sourceTensor.clone().detach() or sourceTensor.clone().detach().requires_grad_(True), rather than torch.tensor(sourceTensor).\n",
      "  train_distilled_dataset = TensorDataset(torch.tensor(X_train_distilled, dtype=torch.float32), y_train_distilled)\n"
     ]
    },
    {
     "name": "stdout",
     "output_type": "stream",
     "text": [
      "Epoch 1/10, Loss: 1.3635747755339387\n",
      "Epoch 2/10, Loss: 1.031322116698694\n",
      "Epoch 3/10, Loss: 0.8436825368382516\n",
      "Epoch 4/10, Loss: 0.599351195293829\n",
      "Epoch 5/10, Loss: 0.38506607205495924\n",
      "Epoch 6/10, Loss: 0.21818989569987726\n",
      "Epoch 7/10, Loss: 0.12037035686160447\n",
      "Epoch 8/10, Loss: 0.09098037364764498\n",
      "Epoch 9/10, Loss: 0.07452066033788093\n",
      "Epoch 10/10, Loss: 0.044989045850351586\n"
     ]
    },
    {
     "name": "stderr",
     "output_type": "stream",
     "text": [
      "C:\\Users\\Hp\\AppData\\Local\\Temp\\ipykernel_7344\\4071374373.py:15: UserWarning: To copy construct from a tensor, it is recommended to use sourceTensor.clone().detach() or sourceTensor.clone().detach().requires_grad_(True), rather than torch.tensor(sourceTensor).\n",
      "  train_distilled_dataset = TensorDataset(torch.tensor(X_train_distilled, dtype=torch.float32), y_train_distilled)\n"
     ]
    },
    {
     "name": "stdout",
     "output_type": "stream",
     "text": [
      "Epoch 1/10, Loss: 1.4050223969538278\n",
      "Epoch 2/10, Loss: 1.0404776001195295\n",
      "Epoch 3/10, Loss: 0.7472566899356492\n",
      "Epoch 4/10, Loss: 0.4325500980976525\n",
      "Epoch 5/10, Loss: 0.21935167587404952\n",
      "Epoch 6/10, Loss: 0.11473528329932361\n",
      "Epoch 7/10, Loss: 0.06745217187723163\n",
      "Epoch 8/10, Loss: 0.07959078484718952\n",
      "Epoch 9/10, Loss: 0.03970053266101611\n",
      "Epoch 10/10, Loss: 0.024973232241415785\n"
     ]
    },
    {
     "data": {
      "image/png": "[encoded data removed]",
      "text/plain": [
       "<Figure size 1000x600 with 1 Axes>"
      ]
     },
     "metadata": {},
     "output_type": "display_data"
    },
    {
     "name": "stdout",
     "output_type": "stream",
     "text": [
      "Average Distilled Model Accuracy: 78.22%\n",
      "Original Model Accuracy: 84.44444444444444%\n"
     ]
    }
   ],
   "source": [
    "n_runs = 10\n",
    "distilled_accuracies = list()\n",
    "original_accuracies = list()\n",
    "\n",
    "for i in range(n_runs):\n",
    "    grid_sampler = gd.BrickImageClusterSampler(X_train, y_train, n_clusters=10, n_samples=100)\n",
    "    grid_sampler.cluster_images()\n",
    "    selected_samples = grid_sampler.get_selected_samples()\n",
    "\n",
    "    # Create a new dataset with the selected samples\n",
    "    X_train_distilled = X_train[selected_samples]\n",
    "    y_train_distilled = y_train[selected_samples]\n",
    "\n",
    "    # Create a DataLoader for the distilled dataset\n",
    "    train_distilled_dataset = TensorDataset(torch.tensor(X_train_distilled, dtype=torch.float32), y_train_distilled)\n",
    "    train_distilled_loader = DataLoader(train_distilled_dataset, batch_size=32, shuffle=True)\n",
    "\n",
    "    # Initialize a new model\n",
    "    distilled_model = SimpleCNN()\n",
    "    criterion = nn.CrossEntropyLoss()\n",
    "    optimizer = optim.Adam(distilled_model.parameters(), lr=0.001)\n",
    "\n",
    "    # Train the distilled model\n",
    "    train(distilled_model, train_distilled_loader, criterion, optimizer, epochs=10)\n",
    "    distilled_accuracy = evaluate(distilled_model, test_loader)\n",
    "    distilled_accuracies.append(distilled_accuracy)\n",
    "\n",
    "# plot the results of the every distilled model and the original model\n",
    "plt.figure(figsize=(10, 6))\n",
    "plt.plot(distilled_accuracies, label='Distilled Model')\n",
    "plt.axhline(y=original_accuracy, color='r', linestyle='-', label='Original Model')\n",
    "plt.xlabel('Run')\n",
    "plt.ylabel('Accuracy (%)')\n",
    "plt.title('Distilled Model vs Original Model')\n",
    "plt.legend()\n",
    "plt.show()\n",
    "\n",
    "# print average accuracy of distilled models\n",
    "print(f'Average Distilled Model Accuracy: {np.mean(distilled_accuracies)}%')\n",
    "print(f'Original Model Accuracy: {original_accuracy}%')\n"
   ]
  },
  {
   "cell_type": "markdown",
   "metadata": {},
   "source": [
    "# Demo - Gender"
   ]
  },
  {
   "cell_type": "code",
   "execution_count": 13,
   "metadata": {},
   "outputs": [
    {
     "name": "stdout",
     "output_type": "stream",
     "text": [
      "Processing MEN images...\n",
      "Processing WOMAN images...\n",
      "Epoch 1/10, Loss: 0.7172293807521011\n",
      "Epoch 2/10, Loss: 0.611305240428809\n",
      "Epoch 3/10, Loss: 0.5528777313954902\n",
      "Epoch 4/10, Loss: 0.4789534328561841\n",
      "Epoch 5/10, Loss: 0.41452725186492456\n",
      "Epoch 6/10, Loss: 0.3551538609194033\n",
      "Epoch 7/10, Loss: 0.2862677321289525\n",
      "Epoch 8/10, Loss: 0.24143515075698044\n",
      "Epoch 9/10, Loss: 0.1893996995958415\n",
      "Epoch 10/10, Loss: 0.10751155199426593\n",
      "Original Model Accuracy: 72.58687258687259%\n"
     ]
    }
   ],
   "source": [
    "# define the dataset \n",
    "gender = [\"MEN\", \"WOMAN\"]\n",
    "path = 'C:\\\\Users\\\\Hp\\\\summer_projects\\\\datasets\\\\gender\\\\'\n",
    "\n",
    "# load the dataset\n",
    "dataset = []\n",
    "for i, gen in enumerate(gender):\n",
    "    print(f'Processing {gen} images...')\n",
    "    gen_dir = os.path.join(path, gen)\n",
    "    for file in os.listdir(gen_dir):\n",
    "        image_path = os.path.join(gen_dir, file)\n",
    "        image = Image.open(image_path)\n",
    "        image = image.resize((128, 128))  # Resize images to (128, 128)\n",
    "        dataset.append((np.array(image), i))\n",
    "\n",
    "# Shuffle the dataset\n",
    "np.random.shuffle(dataset)\n",
    "\n",
    "# Split the dataset into images and labels\n",
    "X = np.array([x[0] for x in dataset], dtype=np.float32) / 255.0\n",
    "y = np.array([x[1] for x in dataset], dtype=np.int64)\n",
    "\n",
    "# Convert images to torch tensors\n",
    "X = torch.tensor(X.transpose(0, 3, 1, 2), dtype=torch.float32)  # Reshape to (N, C, H, W)\n",
    "y = torch.tensor(y, dtype=torch.long)\n",
    "\n",
    "# Split the dataset into train and test sets\n",
    "X_train, X_test, y_train, y_test = train_test_split(X, y, test_size=0.2, random_state=42)\n",
    "\n",
    "# Create DataLoader for training and testing\n",
    "train_dataset = TensorDataset(X_train, y_train)\n",
    "test_dataset = TensorDataset(X_test, y_test)\n",
    "train_loader = DataLoader(train_dataset, batch_size=32, shuffle=True)\n",
    "test_loader = DataLoader(test_dataset, batch_size=32, shuffle=False)\n",
    "\n",
    "# Define the CNN model\n",
    "class SimpleCNN(nn.Module):\n",
    "    def __init__(self):\n",
    "        super(SimpleCNN, self).__init__()\n",
    "        self.conv1 = nn.Conv2d(3, 32, kernel_size=3, padding=1)\n",
    "        self.pool = nn.MaxPool2d(kernel_size=2, stride=2)\n",
    "        self.conv2 = nn.Conv2d(32, 64, kernel_size=3, padding=1)\n",
    "        self.fc1 = nn.Linear(64 * 32 * 32, 64)\n",
    "        self.fc2 = nn.Linear(64, 2)\n",
    "\n",
    "    def forward(self, x):\n",
    "        x = self.pool(torch.relu(self.conv1(x)))\n",
    "        x = self.pool(torch.relu(self.conv2(x)))\n",
    "        x = x.view(-1, 64 * 32 * 32)\n",
    "        x = torch.relu(self.fc1(x))\n",
    "        x = self.fc2(x)\n",
    "        return x\n",
    "    \n",
    "# Initialize the model, loss function, and optimizer\n",
    "model = SimpleCNN()\n",
    "criterion = nn.CrossEntropyLoss()\n",
    "optimizer = optim.Adam(model.parameters(), lr=0.001)\n",
    "\n",
    "# Train the model\n",
    "train(model, train_loader, criterion, optimizer, epochs=10)\n",
    "\n",
    "# Evaluate the model\n",
    "accuracy = evaluate(model, test_loader)\n",
    "\n",
    "print(f'Original Model Accuracy: {accuracy}%')"
   ]
  },
  {
   "cell_type": "markdown",
   "metadata": {},
   "source": [
    "## Grid Distillation"
   ]
  },
  {
   "cell_type": "code",
   "execution_count": 14,
   "metadata": {},
   "outputs": [
    {
     "name": "stderr",
     "output_type": "stream",
     "text": [
      "c:\\Users\\Hp\\anaconda3\\envs\\cuda_deneme\\Lib\\site-packages\\sklearn\\cluster\\_kmeans.py:1429: UserWarning: KMeans is known to have a memory leak on Windows with MKL, when there are less chunks than available threads. You can avoid it by setting the environment variable OMP_NUM_THREADS=5.\n",
      "  warnings.warn(\n",
      "C:\\Users\\Hp\\AppData\\Local\\Temp\\ipykernel_7344\\2577628228.py:15: UserWarning: To copy construct from a tensor, it is recommended to use sourceTensor.clone().detach() or sourceTensor.clone().detach().requires_grad_(True), rather than torch.tensor(sourceTensor).\n",
      "  train_distilled_dataset = TensorDataset(torch.tensor(X_train_distilled, dtype=torch.float32), y_train_distilled)\n"
     ]
    },
    {
     "name": "stdout",
     "output_type": "stream",
     "text": [
      "Epoch 1/10, Loss: 0.8474658049386123\n",
      "Epoch 2/10, Loss: 0.5981039281549125\n",
      "Epoch 3/10, Loss: 0.5351268823804527\n",
      "Epoch 4/10, Loss: 0.46662381907989237\n",
      "Epoch 5/10, Loss: 0.41962582900606354\n",
      "Epoch 6/10, Loss: 0.3607236686451682\n",
      "Epoch 7/10, Loss: 0.2946889580323778\n",
      "Epoch 8/10, Loss: 0.19583753136725263\n",
      "Epoch 9/10, Loss: 0.1704383471916462\n",
      "Epoch 10/10, Loss: 0.10816953369769557\n"
     ]
    },
    {
     "name": "stderr",
     "output_type": "stream",
     "text": [
      "c:\\Users\\Hp\\anaconda3\\envs\\cuda_deneme\\Lib\\site-packages\\sklearn\\cluster\\_kmeans.py:1429: UserWarning: KMeans is known to have a memory leak on Windows with MKL, when there are less chunks than available threads. You can avoid it by setting the environment variable OMP_NUM_THREADS=5.\n",
      "  warnings.warn(\n",
      "C:\\Users\\Hp\\AppData\\Local\\Temp\\ipykernel_7344\\2577628228.py:15: UserWarning: To copy construct from a tensor, it is recommended to use sourceTensor.clone().detach() or sourceTensor.clone().detach().requires_grad_(True), rather than torch.tensor(sourceTensor).\n",
      "  train_distilled_dataset = TensorDataset(torch.tensor(X_train_distilled, dtype=torch.float32), y_train_distilled)\n"
     ]
    },
    {
     "name": "stdout",
     "output_type": "stream",
     "text": [
      "Epoch 1/10, Loss: 0.7048950770805622\n",
      "Epoch 2/10, Loss: 0.5556128610824717\n",
      "Epoch 3/10, Loss: 0.4568019776508726\n",
      "Epoch 4/10, Loss: 0.35692994245167436\n",
      "Epoch 5/10, Loss: 0.29690595793312996\n",
      "Epoch 6/10, Loss: 0.17601032426645016\n",
      "Epoch 7/10, Loss: 0.11415775377174904\n",
      "Epoch 8/10, Loss: 0.08233728921362038\n",
      "Epoch 9/10, Loss: 0.045794723523331096\n",
      "Epoch 10/10, Loss: 0.030736288762298124\n"
     ]
    },
    {
     "name": "stderr",
     "output_type": "stream",
     "text": [
      "c:\\Users\\Hp\\anaconda3\\envs\\cuda_deneme\\Lib\\site-packages\\sklearn\\cluster\\_kmeans.py:1429: UserWarning: KMeans is known to have a memory leak on Windows with MKL, when there are less chunks than available threads. You can avoid it by setting the environment variable OMP_NUM_THREADS=5.\n",
      "  warnings.warn(\n",
      "C:\\Users\\Hp\\AppData\\Local\\Temp\\ipykernel_7344\\2577628228.py:15: UserWarning: To copy construct from a tensor, it is recommended to use sourceTensor.clone().detach() or sourceTensor.clone().detach().requires_grad_(True), rather than torch.tensor(sourceTensor).\n",
      "  train_distilled_dataset = TensorDataset(torch.tensor(X_train_distilled, dtype=torch.float32), y_train_distilled)\n"
     ]
    },
    {
     "name": "stdout",
     "output_type": "stream",
     "text": [
      "Epoch 1/10, Loss: 0.713722810663026\n",
      "Epoch 2/10, Loss: 0.5313927192112495\n",
      "Epoch 3/10, Loss: 0.4683989265869404\n",
      "Epoch 4/10, Loss: 0.4073284710275716\n",
      "Epoch 5/10, Loss: 0.27887994975879277\n",
      "Epoch 6/10, Loss: 0.18202255743330922\n",
      "Epoch 7/10, Loss: 0.10253187307509883\n",
      "Epoch 8/10, Loss: 0.05725952963633784\n",
      "Epoch 9/10, Loss: 0.022375307864798553\n",
      "Epoch 10/10, Loss: 0.009662903066531852\n"
     ]
    },
    {
     "name": "stderr",
     "output_type": "stream",
     "text": [
      "c:\\Users\\Hp\\anaconda3\\envs\\cuda_deneme\\Lib\\site-packages\\sklearn\\cluster\\_kmeans.py:1429: UserWarning: KMeans is known to have a memory leak on Windows with MKL, when there are less chunks than available threads. You can avoid it by setting the environment variable OMP_NUM_THREADS=5.\n",
      "  warnings.warn(\n",
      "C:\\Users\\Hp\\AppData\\Local\\Temp\\ipykernel_7344\\2577628228.py:15: UserWarning: To copy construct from a tensor, it is recommended to use sourceTensor.clone().detach() or sourceTensor.clone().detach().requires_grad_(True), rather than torch.tensor(sourceTensor).\n",
      "  train_distilled_dataset = TensorDataset(torch.tensor(X_train_distilled, dtype=torch.float32), y_train_distilled)\n"
     ]
    },
    {
     "name": "stdout",
     "output_type": "stream",
     "text": [
      "Epoch 1/10, Loss: 0.7337445534508804\n",
      "Epoch 2/10, Loss: 0.611765671392967\n",
      "Epoch 3/10, Loss: 0.5405272070703835\n",
      "Epoch 4/10, Loss: 0.47329729692689304\n",
      "Epoch 5/10, Loss: 0.3769911753720251\n",
      "Epoch 6/10, Loss: 0.2927041567605117\n",
      "Epoch 7/10, Loss: 0.2160681838105465\n",
      "Epoch 8/10, Loss: 0.13140829292864636\n",
      "Epoch 9/10, Loss: 0.07786255194966135\n",
      "Epoch 10/10, Loss: 0.03715963658459227\n"
     ]
    },
    {
     "name": "stderr",
     "output_type": "stream",
     "text": [
      "c:\\Users\\Hp\\anaconda3\\envs\\cuda_deneme\\Lib\\site-packages\\sklearn\\cluster\\_kmeans.py:1429: UserWarning: KMeans is known to have a memory leak on Windows with MKL, when there are less chunks than available threads. You can avoid it by setting the environment variable OMP_NUM_THREADS=5.\n",
      "  warnings.warn(\n",
      "C:\\Users\\Hp\\AppData\\Local\\Temp\\ipykernel_7344\\2577628228.py:15: UserWarning: To copy construct from a tensor, it is recommended to use sourceTensor.clone().detach() or sourceTensor.clone().detach().requires_grad_(True), rather than torch.tensor(sourceTensor).\n",
      "  train_distilled_dataset = TensorDataset(torch.tensor(X_train_distilled, dtype=torch.float32), y_train_distilled)\n"
     ]
    },
    {
     "name": "stdout",
     "output_type": "stream",
     "text": [
      "Epoch 1/10, Loss: 0.8184154485834056\n",
      "Epoch 2/10, Loss: 0.6293382120543513\n",
      "Epoch 3/10, Loss: 0.5726665967497332\n",
      "Epoch 4/10, Loss: 0.5228625443475\n",
      "Epoch 5/10, Loss: 0.46456018295781365\n",
      "Epoch 6/10, Loss: 0.4078292045099982\n",
      "Epoch 7/10, Loss: 0.3129201849986767\n",
      "Epoch 8/10, Loss: 0.24674667726302968\n",
      "Epoch 9/10, Loss: 0.16352506855438495\n",
      "Epoch 10/10, Loss: 0.11571199395533266\n"
     ]
    },
    {
     "name": "stderr",
     "output_type": "stream",
     "text": [
      "c:\\Users\\Hp\\anaconda3\\envs\\cuda_deneme\\Lib\\site-packages\\sklearn\\cluster\\_kmeans.py:1429: UserWarning: KMeans is known to have a memory leak on Windows with MKL, when there are less chunks than available threads. You can avoid it by setting the environment variable OMP_NUM_THREADS=5.\n",
      "  warnings.warn(\n",
      "C:\\Users\\Hp\\AppData\\Local\\Temp\\ipykernel_7344\\2577628228.py:15: UserWarning: To copy construct from a tensor, it is recommended to use sourceTensor.clone().detach() or sourceTensor.clone().detach().requires_grad_(True), rather than torch.tensor(sourceTensor).\n",
      "  train_distilled_dataset = TensorDataset(torch.tensor(X_train_distilled, dtype=torch.float32), y_train_distilled)\n"
     ]
    },
    {
     "name": "stdout",
     "output_type": "stream",
     "text": [
      "Epoch 1/10, Loss: 0.730677370367379\n",
      "Epoch 2/10, Loss: 0.5640047182296885\n",
      "Epoch 3/10, Loss: 0.4709382786833007\n",
      "Epoch 4/10, Loss: 0.3978901371873658\n",
      "Epoch 5/10, Loss: 0.2773965661381853\n",
      "Epoch 6/10, Loss: 0.21193254661971125\n",
      "Epoch 7/10, Loss: 0.13057121210570993\n",
      "Epoch 8/10, Loss: 0.07048047343590136\n",
      "Epoch 9/10, Loss: 0.039498215517157625\n",
      "Epoch 10/10, Loss: 0.016043365073936253\n"
     ]
    },
    {
     "name": "stderr",
     "output_type": "stream",
     "text": [
      "c:\\Users\\Hp\\anaconda3\\envs\\cuda_deneme\\Lib\\site-packages\\sklearn\\cluster\\_kmeans.py:1429: UserWarning: KMeans is known to have a memory leak on Windows with MKL, when there are less chunks than available threads. You can avoid it by setting the environment variable OMP_NUM_THREADS=5.\n",
      "  warnings.warn(\n",
      "C:\\Users\\Hp\\AppData\\Local\\Temp\\ipykernel_7344\\2577628228.py:15: UserWarning: To copy construct from a tensor, it is recommended to use sourceTensor.clone().detach() or sourceTensor.clone().detach().requires_grad_(True), rather than torch.tensor(sourceTensor).\n",
      "  train_distilled_dataset = TensorDataset(torch.tensor(X_train_distilled, dtype=torch.float32), y_train_distilled)\n"
     ]
    },
    {
     "name": "stdout",
     "output_type": "stream",
     "text": [
      "Epoch 1/10, Loss: 0.9213155364168102\n",
      "Epoch 2/10, Loss: 0.6628052160657686\n",
      "Epoch 3/10, Loss: 0.5729078136641403\n",
      "Epoch 4/10, Loss: 0.4990253458762991\n",
      "Epoch 5/10, Loss: 0.45840659840353604\n",
      "Epoch 6/10, Loss: 0.3594792665078722\n",
      "Epoch 7/10, Loss: 0.30189015074022885\n",
      "Epoch 8/10, Loss: 0.20167668600534572\n",
      "Epoch 9/10, Loss: 0.12758470018362178\n",
      "Epoch 10/10, Loss: 0.07593655380709417\n"
     ]
    },
    {
     "name": "stderr",
     "output_type": "stream",
     "text": [
      "c:\\Users\\Hp\\anaconda3\\envs\\cuda_deneme\\Lib\\site-packages\\sklearn\\cluster\\_kmeans.py:1429: UserWarning: KMeans is known to have a memory leak on Windows with MKL, when there are less chunks than available threads. You can avoid it by setting the environment variable OMP_NUM_THREADS=5.\n",
      "  warnings.warn(\n",
      "C:\\Users\\Hp\\AppData\\Local\\Temp\\ipykernel_7344\\2577628228.py:15: UserWarning: To copy construct from a tensor, it is recommended to use sourceTensor.clone().detach() or sourceTensor.clone().detach().requires_grad_(True), rather than torch.tensor(sourceTensor).\n",
      "  train_distilled_dataset = TensorDataset(torch.tensor(X_train_distilled, dtype=torch.float32), y_train_distilled)\n"
     ]
    },
    {
     "name": "stdout",
     "output_type": "stream",
     "text": [
      "Epoch 1/10, Loss: 0.6908646102609306\n",
      "Epoch 2/10, Loss: 0.576606383611416\n",
      "Epoch 3/10, Loss: 0.5127520797581508\n",
      "Epoch 4/10, Loss: 0.44986478727439355\n",
      "Epoch 5/10, Loss: 0.3360414618048175\n",
      "Epoch 6/10, Loss: 0.2526656065521569\n",
      "Epoch 7/10, Loss: 0.17112282124058953\n",
      "Epoch 8/10, Loss: 0.09992476282962437\n",
      "Epoch 9/10, Loss: 0.0765957770034157\n",
      "Epoch 10/10, Loss: 0.03258943800204273\n"
     ]
    },
    {
     "name": "stderr",
     "output_type": "stream",
     "text": [
      "c:\\Users\\Hp\\anaconda3\\envs\\cuda_deneme\\Lib\\site-packages\\sklearn\\cluster\\_kmeans.py:1429: UserWarning: KMeans is known to have a memory leak on Windows with MKL, when there are less chunks than available threads. You can avoid it by setting the environment variable OMP_NUM_THREADS=5.\n",
      "  warnings.warn(\n",
      "C:\\Users\\Hp\\AppData\\Local\\Temp\\ipykernel_7344\\2577628228.py:15: UserWarning: To copy construct from a tensor, it is recommended to use sourceTensor.clone().detach() or sourceTensor.clone().detach().requires_grad_(True), rather than torch.tensor(sourceTensor).\n",
      "  train_distilled_dataset = TensorDataset(torch.tensor(X_train_distilled, dtype=torch.float32), y_train_distilled)\n"
     ]
    },
    {
     "name": "stdout",
     "output_type": "stream",
     "text": [
      "Epoch 1/10, Loss: 0.7249574291295019\n",
      "Epoch 2/10, Loss: 0.5730533096297034\n",
      "Epoch 3/10, Loss: 0.48725272972008277\n",
      "Epoch 4/10, Loss: 0.43376506505341367\n",
      "Epoch 5/10, Loss: 0.3649967271706154\n",
      "Epoch 6/10, Loss: 0.30658051422957716\n",
      "Epoch 7/10, Loss: 0.23296859346587082\n",
      "Epoch 8/10, Loss: 0.15217756325828619\n",
      "Epoch 9/10, Loss: 0.11819299098489613\n",
      "Epoch 10/10, Loss: 0.06536862527116619\n"
     ]
    },
    {
     "name": "stderr",
     "output_type": "stream",
     "text": [
      "c:\\Users\\Hp\\anaconda3\\envs\\cuda_deneme\\Lib\\site-packages\\sklearn\\cluster\\_kmeans.py:1429: UserWarning: KMeans is known to have a memory leak on Windows with MKL, when there are less chunks than available threads. You can avoid it by setting the environment variable OMP_NUM_THREADS=5.\n",
      "  warnings.warn(\n",
      "C:\\Users\\Hp\\AppData\\Local\\Temp\\ipykernel_7344\\2577628228.py:15: UserWarning: To copy construct from a tensor, it is recommended to use sourceTensor.clone().detach() or sourceTensor.clone().detach().requires_grad_(True), rather than torch.tensor(sourceTensor).\n",
      "  train_distilled_dataset = TensorDataset(torch.tensor(X_train_distilled, dtype=torch.float32), y_train_distilled)\n"
     ]
    },
    {
     "name": "stdout",
     "output_type": "stream",
     "text": [
      "Epoch 1/10, Loss: 0.7803473472595215\n",
      "Epoch 2/10, Loss: 0.6106266235483104\n",
      "Epoch 3/10, Loss: 0.5190838893939709\n",
      "Epoch 4/10, Loss: 0.43553262537923354\n",
      "Epoch 5/10, Loss: 0.34011824531801815\n",
      "Epoch 6/10, Loss: 0.2763868971117612\n",
      "Epoch 7/10, Loss: 0.1964869499206543\n",
      "Epoch 8/10, Loss: 0.1965285411168789\n",
      "Epoch 9/10, Loss: 0.12101910879899716\n",
      "Epoch 10/10, Loss: 0.08342492785947077\n"
     ]
    },
    {
     "data": {
      "image/png": "[encoded data removed]",
      "text/plain": [
       "<Figure size 1000x600 with 1 Axes>"
      ]
     },
     "metadata": {},
     "output_type": "display_data"
    },
    {
     "name": "stdout",
     "output_type": "stream",
     "text": [
      "Average Distilled Model Accuracy: 73.05019305019304%\n",
      "Original Model Accuracy: 84.44444444444444%\n"
     ]
    }
   ],
   "source": [
    "n_runs = 10\n",
    "distilled_accuracies = list()\n",
    "original_accuracies = list()\n",
    "\n",
    "for i in range(n_runs):\n",
    "    grid_sampler = gd.GridImageClusterSampler(X_train, y_train, n_clusters=10, n_samples=60)\n",
    "    grid_sampler.cluster_images()\n",
    "    selected_samples = grid_sampler.get_selected_samples()\n",
    "\n",
    "    # Create a new dataset with the selected samples\n",
    "    X_train_distilled = X_train[selected_samples]\n",
    "    y_train_distilled = y_train[selected_samples]\n",
    "\n",
    "    # Create a DataLoader for the distilled dataset\n",
    "    train_distilled_dataset = TensorDataset(torch.tensor(X_train_distilled, dtype=torch.float32), y_train_distilled)\n",
    "    train_distilled_loader = DataLoader(train_distilled_dataset, batch_size=32, shuffle=True)\n",
    "\n",
    "    # Initialize a new model\n",
    "    distilled_model = SimpleCNN()\n",
    "    criterion = nn.CrossEntropyLoss()\n",
    "    optimizer = optim.Adam(distilled_model.parameters(), lr=0.001)\n",
    "\n",
    "    # Train the distilled model\n",
    "    train(distilled_model, train_distilled_loader, criterion, optimizer, epochs=10)\n",
    "    distilled_accuracy = evaluate(distilled_model, test_loader)\n",
    "    distilled_accuracies.append(distilled_accuracy)\n",
    "\n",
    "# plot the results of the every distilled model and the original model\n",
    "plt.figure(figsize=(10, 6))\n",
    "plt.plot(distilled_accuracies, label='Distilled Model')\n",
    "plt.axhline(y=original_accuracy, color='r', linestyle='-', label='Original Model')\n",
    "plt.xlabel('Run')\n",
    "plt.ylabel('Accuracy (%)')\n",
    "plt.title('Distilled Model vs Original Model')\n",
    "plt.legend()\n",
    "plt.show()\n",
    "\n",
    "# print average accuracy of distilled models\n",
    "print(f'Average Distilled Model Accuracy: {np.mean(distilled_accuracies)}%')\n",
    "print(f'Original Model Accuracy: {original_accuracy}%')\n"
   ]
  },
  {
   "cell_type": "markdown",
   "metadata": {},
   "source": [
    "## Paralelogram Distillation"
   ]
  },
  {
   "cell_type": "code",
   "execution_count": 15,
   "metadata": {},
   "outputs": [
    {
     "name": "stderr",
     "output_type": "stream",
     "text": [
      "c:\\Users\\Hp\\anaconda3\\envs\\cuda_deneme\\Lib\\site-packages\\sklearn\\cluster\\_kmeans.py:1429: UserWarning: KMeans is known to have a memory leak on Windows with MKL, when there are less chunks than available threads. You can avoid it by setting the environment variable OMP_NUM_THREADS=5.\n",
      "  warnings.warn(\n",
      "C:\\Users\\Hp\\AppData\\Local\\Temp\\ipykernel_7344\\1061059052.py:15: UserWarning: To copy construct from a tensor, it is recommended to use sourceTensor.clone().detach() or sourceTensor.clone().detach().requires_grad_(True), rather than torch.tensor(sourceTensor).\n",
      "  train_distilled_dataset = TensorDataset(torch.tensor(X_train_distilled, dtype=torch.float32), y_train_distilled)\n"
     ]
    },
    {
     "name": "stdout",
     "output_type": "stream",
     "text": [
      "Epoch 1/10, Loss: 0.7111620368628666\n",
      "Epoch 2/10, Loss: 0.614456832408905\n",
      "Epoch 3/10, Loss: 0.5297078366937309\n",
      "Epoch 4/10, Loss: 0.4214762778117739\n",
      "Epoch 5/10, Loss: 0.3082522441600931\n",
      "Epoch 6/10, Loss: 0.21376917613991375\n",
      "Epoch 7/10, Loss: 0.12455042156166043\n",
      "Epoch 8/10, Loss: 0.06868350871934972\n",
      "Epoch 9/10, Loss: 0.027805926968696815\n",
      "Epoch 10/10, Loss: 0.014297701595029954\n"
     ]
    },
    {
     "name": "stderr",
     "output_type": "stream",
     "text": [
      "c:\\Users\\Hp\\anaconda3\\envs\\cuda_deneme\\Lib\\site-packages\\sklearn\\cluster\\_kmeans.py:1429: UserWarning: KMeans is known to have a memory leak on Windows with MKL, when there are less chunks than available threads. You can avoid it by setting the environment variable OMP_NUM_THREADS=5.\n",
      "  warnings.warn(\n",
      "C:\\Users\\Hp\\AppData\\Local\\Temp\\ipykernel_7344\\1061059052.py:15: UserWarning: To copy construct from a tensor, it is recommended to use sourceTensor.clone().detach() or sourceTensor.clone().detach().requires_grad_(True), rather than torch.tensor(sourceTensor).\n",
      "  train_distilled_dataset = TensorDataset(torch.tensor(X_train_distilled, dtype=torch.float32), y_train_distilled)\n"
     ]
    },
    {
     "name": "stdout",
     "output_type": "stream",
     "text": [
      "Epoch 1/10, Loss: 0.8835670372535442\n",
      "Epoch 2/10, Loss: 0.6826560579497238\n",
      "Epoch 3/10, Loss: 0.6200390889726836\n",
      "Epoch 4/10, Loss: 0.5872231310811536\n",
      "Epoch 5/10, Loss: 0.5155516256546152\n",
      "Epoch 6/10, Loss: 0.46356557463777476\n",
      "Epoch 7/10, Loss: 0.37063197431893186\n",
      "Epoch 8/10, Loss: 0.28935092225156983\n",
      "Epoch 9/10, Loss: 0.21262264637083844\n",
      "Epoch 10/10, Loss: 0.14817924309393454\n"
     ]
    },
    {
     "name": "stderr",
     "output_type": "stream",
     "text": [
      "c:\\Users\\Hp\\anaconda3\\envs\\cuda_deneme\\Lib\\site-packages\\sklearn\\cluster\\_kmeans.py:1429: UserWarning: KMeans is known to have a memory leak on Windows with MKL, when there are less chunks than available threads. You can avoid it by setting the environment variable OMP_NUM_THREADS=5.\n",
      "  warnings.warn(\n",
      "C:\\Users\\Hp\\AppData\\Local\\Temp\\ipykernel_7344\\1061059052.py:15: UserWarning: To copy construct from a tensor, it is recommended to use sourceTensor.clone().detach() or sourceTensor.clone().detach().requires_grad_(True), rather than torch.tensor(sourceTensor).\n",
      "  train_distilled_dataset = TensorDataset(torch.tensor(X_train_distilled, dtype=torch.float32), y_train_distilled)\n"
     ]
    },
    {
     "name": "stdout",
     "output_type": "stream",
     "text": [
      "Epoch 1/10, Loss: 0.8187866498684061\n",
      "Epoch 2/10, Loss: 0.6454014983670465\n",
      "Epoch 3/10, Loss: 0.5652273317863201\n",
      "Epoch 4/10, Loss: 0.502653025347611\n",
      "Epoch 5/10, Loss: 0.3999855723874322\n",
      "Epoch 6/10, Loss: 0.31297852921074837\n",
      "Epoch 7/10, Loss: 0.21952892711450314\n",
      "Epoch 8/10, Loss: 0.14278858835841046\n",
      "Epoch 9/10, Loss: 0.0813181830634331\n",
      "Epoch 10/10, Loss: 0.03761125696373397\n"
     ]
    },
    {
     "name": "stderr",
     "output_type": "stream",
     "text": [
      "c:\\Users\\Hp\\anaconda3\\envs\\cuda_deneme\\Lib\\site-packages\\sklearn\\cluster\\_kmeans.py:1429: UserWarning: KMeans is known to have a memory leak on Windows with MKL, when there are less chunks than available threads. You can avoid it by setting the environment variable OMP_NUM_THREADS=5.\n",
      "  warnings.warn(\n",
      "C:\\Users\\Hp\\AppData\\Local\\Temp\\ipykernel_7344\\1061059052.py:15: UserWarning: To copy construct from a tensor, it is recommended to use sourceTensor.clone().detach() or sourceTensor.clone().detach().requires_grad_(True), rather than torch.tensor(sourceTensor).\n",
      "  train_distilled_dataset = TensorDataset(torch.tensor(X_train_distilled, dtype=torch.float32), y_train_distilled)\n"
     ]
    },
    {
     "name": "stdout",
     "output_type": "stream",
     "text": [
      "Epoch 1/10, Loss: 0.7286281462373405\n",
      "Epoch 2/10, Loss: 0.595345903059532\n",
      "Epoch 3/10, Loss: 0.5331788957118988\n",
      "Epoch 4/10, Loss: 0.46587490007795135\n",
      "Epoch 5/10, Loss: 0.3494168889933619\n",
      "Epoch 6/10, Loss: 0.2608766668829425\n",
      "Epoch 7/10, Loss: 0.1482976957641799\n",
      "Epoch 8/10, Loss: 0.07555423163134477\n",
      "Epoch 9/10, Loss: 0.02681161469683565\n",
      "Epoch 10/10, Loss: 0.017966420662685716\n"
     ]
    },
    {
     "name": "stderr",
     "output_type": "stream",
     "text": [
      "c:\\Users\\Hp\\anaconda3\\envs\\cuda_deneme\\Lib\\site-packages\\sklearn\\cluster\\_kmeans.py:1429: UserWarning: KMeans is known to have a memory leak on Windows with MKL, when there are less chunks than available threads. You can avoid it by setting the environment variable OMP_NUM_THREADS=5.\n",
      "  warnings.warn(\n",
      "C:\\Users\\Hp\\AppData\\Local\\Temp\\ipykernel_7344\\1061059052.py:15: UserWarning: To copy construct from a tensor, it is recommended to use sourceTensor.clone().detach() or sourceTensor.clone().detach().requires_grad_(True), rather than torch.tensor(sourceTensor).\n",
      "  train_distilled_dataset = TensorDataset(torch.tensor(X_train_distilled, dtype=torch.float32), y_train_distilled)\n"
     ]
    },
    {
     "name": "stdout",
     "output_type": "stream",
     "text": [
      "Epoch 1/10, Loss: 0.7757252351991062\n",
      "Epoch 2/10, Loss: 0.6570642611076092\n",
      "Epoch 3/10, Loss: 0.5623172552421175\n",
      "Epoch 4/10, Loss: 0.4879363929403239\n",
      "Epoch 5/10, Loss: 0.43729050406094255\n",
      "Epoch 6/10, Loss: 0.3555765239329174\n",
      "Epoch 7/10, Loss: 0.26331378519535065\n",
      "Epoch 8/10, Loss: 0.1879601712370741\n",
      "Epoch 9/10, Loss: 0.09940947386725195\n",
      "Epoch 10/10, Loss: 0.04797397640630089\n"
     ]
    },
    {
     "name": "stderr",
     "output_type": "stream",
     "text": [
      "c:\\Users\\Hp\\anaconda3\\envs\\cuda_deneme\\Lib\\site-packages\\sklearn\\cluster\\_kmeans.py:1429: UserWarning: KMeans is known to have a memory leak on Windows with MKL, when there are less chunks than available threads. You can avoid it by setting the environment variable OMP_NUM_THREADS=5.\n",
      "  warnings.warn(\n",
      "C:\\Users\\Hp\\AppData\\Local\\Temp\\ipykernel_7344\\1061059052.py:15: UserWarning: To copy construct from a tensor, it is recommended to use sourceTensor.clone().detach() or sourceTensor.clone().detach().requires_grad_(True), rather than torch.tensor(sourceTensor).\n",
      "  train_distilled_dataset = TensorDataset(torch.tensor(X_train_distilled, dtype=torch.float32), y_train_distilled)\n"
     ]
    },
    {
     "name": "stdout",
     "output_type": "stream",
     "text": [
      "Epoch 1/10, Loss: 0.7581756443812929\n",
      "Epoch 2/10, Loss: 0.6250895549511087\n",
      "Epoch 3/10, Loss: 0.5629717142417513\n",
      "Epoch 4/10, Loss: 0.5152210099943753\n",
      "Epoch 5/10, Loss: 0.5001873754221817\n",
      "Epoch 6/10, Loss: 0.3856181301947298\n",
      "Epoch 7/10, Loss: 0.32371718770471114\n",
      "Epoch 8/10, Loss: 0.2162199847657105\n",
      "Epoch 9/10, Loss: 0.14083001981007642\n",
      "Epoch 10/10, Loss: 0.09042951092123985\n"
     ]
    },
    {
     "name": "stderr",
     "output_type": "stream",
     "text": [
      "c:\\Users\\Hp\\anaconda3\\envs\\cuda_deneme\\Lib\\site-packages\\sklearn\\cluster\\_kmeans.py:1429: UserWarning: KMeans is known to have a memory leak on Windows with MKL, when there are less chunks than available threads. You can avoid it by setting the environment variable OMP_NUM_THREADS=5.\n",
      "  warnings.warn(\n",
      "C:\\Users\\Hp\\AppData\\Local\\Temp\\ipykernel_7344\\1061059052.py:15: UserWarning: To copy construct from a tensor, it is recommended to use sourceTensor.clone().detach() or sourceTensor.clone().detach().requires_grad_(True), rather than torch.tensor(sourceTensor).\n",
      "  train_distilled_dataset = TensorDataset(torch.tensor(X_train_distilled, dtype=torch.float32), y_train_distilled)\n"
     ]
    },
    {
     "name": "stdout",
     "output_type": "stream",
     "text": [
      "Epoch 1/10, Loss: 0.7380115245950634\n",
      "Epoch 2/10, Loss: 0.6291008725248534\n",
      "Epoch 3/10, Loss: 0.5496840107029882\n",
      "Epoch 4/10, Loss: 0.4737614290467624\n",
      "Epoch 5/10, Loss: 0.3288621774007534\n",
      "Epoch 6/10, Loss: 0.24696155149361182\n",
      "Epoch 7/10, Loss: 0.15299202951377835\n",
      "Epoch 8/10, Loss: 0.0943840291864913\n",
      "Epoch 9/10, Loss: 0.03548447726744002\n",
      "Epoch 10/10, Loss: 0.016113772956204826\n"
     ]
    },
    {
     "name": "stderr",
     "output_type": "stream",
     "text": [
      "c:\\Users\\Hp\\anaconda3\\envs\\cuda_deneme\\Lib\\site-packages\\sklearn\\cluster\\_kmeans.py:1429: UserWarning: KMeans is known to have a memory leak on Windows with MKL, when there are less chunks than available threads. You can avoid it by setting the environment variable OMP_NUM_THREADS=5.\n",
      "  warnings.warn(\n",
      "C:\\Users\\Hp\\AppData\\Local\\Temp\\ipykernel_7344\\1061059052.py:15: UserWarning: To copy construct from a tensor, it is recommended to use sourceTensor.clone().detach() or sourceTensor.clone().detach().requires_grad_(True), rather than torch.tensor(sourceTensor).\n",
      "  train_distilled_dataset = TensorDataset(torch.tensor(X_train_distilled, dtype=torch.float32), y_train_distilled)\n"
     ]
    },
    {
     "name": "stdout",
     "output_type": "stream",
     "text": [
      "Epoch 1/10, Loss: 0.753402829170227\n",
      "Epoch 2/10, Loss: 0.6301858980080177\n",
      "Epoch 3/10, Loss: 0.5473595169083826\n",
      "Epoch 4/10, Loss: 0.48369849550312966\n",
      "Epoch 5/10, Loss: 0.4164488356688927\n",
      "Epoch 6/10, Loss: 0.3259592945205754\n",
      "Epoch 7/10, Loss: 0.28387066208083056\n",
      "Epoch 8/10, Loss: 0.20489885966325627\n",
      "Epoch 9/10, Loss: 0.1387407061611784\n",
      "Epoch 10/10, Loss: 0.09221911199133971\n"
     ]
    },
    {
     "name": "stderr",
     "output_type": "stream",
     "text": [
      "c:\\Users\\Hp\\anaconda3\\envs\\cuda_deneme\\Lib\\site-packages\\sklearn\\cluster\\_kmeans.py:1429: UserWarning: KMeans is known to have a memory leak on Windows with MKL, when there are less chunks than available threads. You can avoid it by setting the environment variable OMP_NUM_THREADS=5.\n",
      "  warnings.warn(\n",
      "C:\\Users\\Hp\\AppData\\Local\\Temp\\ipykernel_7344\\1061059052.py:15: UserWarning: To copy construct from a tensor, it is recommended to use sourceTensor.clone().detach() or sourceTensor.clone().detach().requires_grad_(True), rather than torch.tensor(sourceTensor).\n",
      "  train_distilled_dataset = TensorDataset(torch.tensor(X_train_distilled, dtype=torch.float32), y_train_distilled)\n"
     ]
    },
    {
     "name": "stdout",
     "output_type": "stream",
     "text": [
      "Epoch 1/10, Loss: 0.7352908192009762\n",
      "Epoch 2/10, Loss: 0.5994428581204908\n",
      "Epoch 3/10, Loss: 0.5117506569829481\n",
      "Epoch 4/10, Loss: 0.43435773767274\n",
      "Epoch 5/10, Loss: 0.36829260402712327\n",
      "Epoch 6/10, Loss: 0.26732791395022953\n",
      "Epoch 7/10, Loss: 0.1948266114140379\n",
      "Epoch 8/10, Loss: 0.11783607728008566\n",
      "Epoch 9/10, Loss: 0.06971658824075913\n",
      "Epoch 10/10, Loss: 0.03177183728408197\n"
     ]
    },
    {
     "name": "stderr",
     "output_type": "stream",
     "text": [
      "c:\\Users\\Hp\\anaconda3\\envs\\cuda_deneme\\Lib\\site-packages\\sklearn\\cluster\\_kmeans.py:1429: UserWarning: KMeans is known to have a memory leak on Windows with MKL, when there are less chunks than available threads. You can avoid it by setting the environment variable OMP_NUM_THREADS=5.\n",
      "  warnings.warn(\n",
      "C:\\Users\\Hp\\AppData\\Local\\Temp\\ipykernel_7344\\1061059052.py:15: UserWarning: To copy construct from a tensor, it is recommended to use sourceTensor.clone().detach() or sourceTensor.clone().detach().requires_grad_(True), rather than torch.tensor(sourceTensor).\n",
      "  train_distilled_dataset = TensorDataset(torch.tensor(X_train_distilled, dtype=torch.float32), y_train_distilled)\n"
     ]
    },
    {
     "name": "stdout",
     "output_type": "stream",
     "text": [
      "Epoch 1/10, Loss: 0.7081041849892715\n",
      "Epoch 2/10, Loss: 0.5940548592600329\n",
      "Epoch 3/10, Loss: 0.5067153953272721\n",
      "Epoch 4/10, Loss: 0.45337587492219333\n",
      "Epoch 5/10, Loss: 0.35122679996079414\n",
      "Epoch 6/10, Loss: 0.2537168415969816\n",
      "Epoch 7/10, Loss: 0.1924751409939651\n",
      "Epoch 8/10, Loss: 0.1250272853107288\n",
      "Epoch 9/10, Loss: 0.07591572904895091\n",
      "Epoch 10/10, Loss: 0.03683319967240095\n"
     ]
    },
    {
     "data": {
      "image/png": "[encoded data removed]",
      "text/plain": [
       "<Figure size 1000x600 with 1 Axes>"
      ]
     },
     "metadata": {},
     "output_type": "display_data"
    },
    {
     "name": "stdout",
     "output_type": "stream",
     "text": [
      "Average Distilled Model Accuracy: 73.93822393822394%\n",
      "Original Model Accuracy: 84.44444444444444%\n"
     ]
    }
   ],
   "source": [
    "n_runs = 10\n",
    "distilled_accuracies = list()\n",
    "original_accuracies = list()\n",
    "\n",
    "for i in range(n_runs):\n",
    "    grid_sampler = gd.ParallelogramImageClusterSampler(X_train, y_train, n_clusters=10, n_samples=60)\n",
    "    grid_sampler.cluster_images()\n",
    "    selected_samples = grid_sampler.get_selected_samples()\n",
    "\n",
    "    # Create a new dataset with the selected samples\n",
    "    X_train_distilled = X_train[selected_samples]\n",
    "    y_train_distilled = y_train[selected_samples]\n",
    "\n",
    "    # Create a DataLoader for the distilled dataset\n",
    "    train_distilled_dataset = TensorDataset(torch.tensor(X_train_distilled, dtype=torch.float32), y_train_distilled)\n",
    "    train_distilled_loader = DataLoader(train_distilled_dataset, batch_size=32, shuffle=True)\n",
    "\n",
    "    # Initialize a new model\n",
    "    distilled_model = SimpleCNN()\n",
    "    criterion = nn.CrossEntropyLoss()\n",
    "    optimizer = optim.Adam(distilled_model.parameters(), lr=0.001)\n",
    "\n",
    "    # Train the distilled model\n",
    "    train(distilled_model, train_distilled_loader, criterion, optimizer, epochs=10)\n",
    "    distilled_accuracy = evaluate(distilled_model, test_loader)\n",
    "    distilled_accuracies.append(distilled_accuracy)\n",
    "\n",
    "# plot the results of the every distilled model and the original model\n",
    "plt.figure(figsize=(10, 6))\n",
    "plt.plot(distilled_accuracies, label='Distilled Model')\n",
    "plt.axhline(y=original_accuracy, color='r', linestyle='-', label='Original Model')\n",
    "plt.xlabel('Run')\n",
    "plt.ylabel('Accuracy (%)')\n",
    "plt.title('Distilled Model vs Original Model')\n",
    "plt.legend()\n",
    "plt.show()\n",
    "\n",
    "# print average accuracy of distilled models\n",
    "print(f'Average Distilled Model Accuracy: {np.mean(distilled_accuracies)}%')\n",
    "print(f'Original Model Accuracy: {original_accuracy}%')\n"
   ]
  },
  {
   "cell_type": "markdown",
   "metadata": {},
   "source": [
    "## Triangular Distillation"
   ]
  },
  {
   "cell_type": "code",
   "execution_count": 16,
   "metadata": {},
   "outputs": [
    {
     "name": "stderr",
     "output_type": "stream",
     "text": [
      "c:\\Users\\Hp\\anaconda3\\envs\\cuda_deneme\\Lib\\site-packages\\sklearn\\cluster\\_kmeans.py:1429: UserWarning: KMeans is known to have a memory leak on Windows with MKL, when there are less chunks than available threads. You can avoid it by setting the environment variable OMP_NUM_THREADS=5.\n",
      "  warnings.warn(\n",
      "C:\\Users\\Hp\\AppData\\Local\\Temp\\ipykernel_7344\\2387970315.py:15: UserWarning: To copy construct from a tensor, it is recommended to use sourceTensor.clone().detach() or sourceTensor.clone().detach().requires_grad_(True), rather than torch.tensor(sourceTensor).\n",
      "  train_distilled_dataset = TensorDataset(torch.tensor(X_train_distilled, dtype=torch.float32), y_train_distilled)\n"
     ]
    },
    {
     "name": "stdout",
     "output_type": "stream",
     "text": [
      "Epoch 1/10, Loss: 0.6908022596918303\n",
      "Epoch 2/10, Loss: 0.612894306922781\n",
      "Epoch 3/10, Loss: 0.5436312720693391\n",
      "Epoch 4/10, Loss: 0.46674907824088785\n",
      "Epoch 5/10, Loss: 0.4212985069587313\n",
      "Epoch 6/10, Loss: 0.3446838490921876\n",
      "Epoch 7/10, Loss: 0.2492814053749216\n",
      "Epoch 8/10, Loss: 0.15664916408473048\n",
      "Epoch 9/10, Loss: 0.07964518855743367\n",
      "Epoch 10/10, Loss: 0.03300214057852482\n"
     ]
    },
    {
     "name": "stderr",
     "output_type": "stream",
     "text": [
      "c:\\Users\\Hp\\anaconda3\\envs\\cuda_deneme\\Lib\\site-packages\\sklearn\\cluster\\_kmeans.py:1429: UserWarning: KMeans is known to have a memory leak on Windows with MKL, when there are less chunks than available threads. You can avoid it by setting the environment variable OMP_NUM_THREADS=5.\n",
      "  warnings.warn(\n",
      "C:\\Users\\Hp\\AppData\\Local\\Temp\\ipykernel_7344\\2387970315.py:15: UserWarning: To copy construct from a tensor, it is recommended to use sourceTensor.clone().detach() or sourceTensor.clone().detach().requires_grad_(True), rather than torch.tensor(sourceTensor).\n",
      "  train_distilled_dataset = TensorDataset(torch.tensor(X_train_distilled, dtype=torch.float32), y_train_distilled)\n"
     ]
    },
    {
     "name": "stdout",
     "output_type": "stream",
     "text": [
      "Epoch 1/10, Loss: 0.8131892002862076\n",
      "Epoch 2/10, Loss: 0.6475078648534315\n",
      "Epoch 3/10, Loss: 0.5968908225667888\n",
      "Epoch 4/10, Loss: 0.5533253324442896\n",
      "Epoch 5/10, Loss: 0.4802904899778037\n",
      "Epoch 6/10, Loss: 0.4313312604509551\n",
      "Epoch 7/10, Loss: 0.3528783228890649\n",
      "Epoch 8/10, Loss: 0.3100188749617544\n",
      "Epoch 9/10, Loss: 0.24557406480970054\n",
      "Epoch 10/10, Loss: 0.14615508888302178\n"
     ]
    },
    {
     "name": "stderr",
     "output_type": "stream",
     "text": [
      "c:\\Users\\Hp\\anaconda3\\envs\\cuda_deneme\\Lib\\site-packages\\sklearn\\cluster\\_kmeans.py:1429: UserWarning: KMeans is known to have a memory leak on Windows with MKL, when there are less chunks than available threads. You can avoid it by setting the environment variable OMP_NUM_THREADS=5.\n",
      "  warnings.warn(\n",
      "C:\\Users\\Hp\\AppData\\Local\\Temp\\ipykernel_7344\\2387970315.py:15: UserWarning: To copy construct from a tensor, it is recommended to use sourceTensor.clone().detach() or sourceTensor.clone().detach().requires_grad_(True), rather than torch.tensor(sourceTensor).\n",
      "  train_distilled_dataset = TensorDataset(torch.tensor(X_train_distilled, dtype=torch.float32), y_train_distilled)\n"
     ]
    },
    {
     "name": "stdout",
     "output_type": "stream",
     "text": [
      "Epoch 1/10, Loss: 0.7311250896289431\n",
      "Epoch 2/10, Loss: 0.608312406416597\n",
      "Epoch 3/10, Loss: 0.5543559861594233\n",
      "Epoch 4/10, Loss: 0.49702503455096275\n",
      "Epoch 5/10, Loss: 0.46055975659140225\n",
      "Epoch 6/10, Loss: 0.3987423777580261\n",
      "Epoch 7/10, Loss: 0.3273868355257758\n",
      "Epoch 8/10, Loss: 0.2567325881842909\n",
      "Epoch 9/10, Loss: 0.20057996593672653\n",
      "Epoch 10/10, Loss: 0.13036419849457412\n"
     ]
    },
    {
     "name": "stderr",
     "output_type": "stream",
     "text": [
      "c:\\Users\\Hp\\anaconda3\\envs\\cuda_deneme\\Lib\\site-packages\\sklearn\\cluster\\_kmeans.py:1429: UserWarning: KMeans is known to have a memory leak on Windows with MKL, when there are less chunks than available threads. You can avoid it by setting the environment variable OMP_NUM_THREADS=5.\n",
      "  warnings.warn(\n",
      "C:\\Users\\Hp\\AppData\\Local\\Temp\\ipykernel_7344\\2387970315.py:15: UserWarning: To copy construct from a tensor, it is recommended to use sourceTensor.clone().detach() or sourceTensor.clone().detach().requires_grad_(True), rather than torch.tensor(sourceTensor).\n",
      "  train_distilled_dataset = TensorDataset(torch.tensor(X_train_distilled, dtype=torch.float32), y_train_distilled)\n"
     ]
    },
    {
     "name": "stdout",
     "output_type": "stream",
     "text": [
      "Epoch 1/10, Loss: 0.7259734416830128\n",
      "Epoch 2/10, Loss: 0.6225495605633177\n",
      "Epoch 3/10, Loss: 0.5548610111762737\n",
      "Epoch 4/10, Loss: 0.4776856200448398\n",
      "Epoch 5/10, Loss: 0.37989293963744725\n",
      "Epoch 6/10, Loss: 0.2643518576334263\n",
      "Epoch 7/10, Loss: 0.18196167334400373\n",
      "Epoch 8/10, Loss: 0.1110307479213024\n",
      "Epoch 9/10, Loss: 0.07500398364560358\n",
      "Epoch 10/10, Loss: 0.06858702068184984\n"
     ]
    },
    {
     "name": "stderr",
     "output_type": "stream",
     "text": [
      "c:\\Users\\Hp\\anaconda3\\envs\\cuda_deneme\\Lib\\site-packages\\sklearn\\cluster\\_kmeans.py:1429: UserWarning: KMeans is known to have a memory leak on Windows with MKL, when there are less chunks than available threads. You can avoid it by setting the environment variable OMP_NUM_THREADS=5.\n",
      "  warnings.warn(\n",
      "C:\\Users\\Hp\\AppData\\Local\\Temp\\ipykernel_7344\\2387970315.py:15: UserWarning: To copy construct from a tensor, it is recommended to use sourceTensor.clone().detach() or sourceTensor.clone().detach().requires_grad_(True), rather than torch.tensor(sourceTensor).\n",
      "  train_distilled_dataset = TensorDataset(torch.tensor(X_train_distilled, dtype=torch.float32), y_train_distilled)\n"
     ]
    },
    {
     "name": "stdout",
     "output_type": "stream",
     "text": [
      "Epoch 1/10, Loss: 0.7573109145822197\n",
      "Epoch 2/10, Loss: 0.6080681506929726\n",
      "Epoch 3/10, Loss: 0.5302387537627384\n",
      "Epoch 4/10, Loss: 0.43980480062550514\n",
      "Epoch 5/10, Loss: 0.3574673564269625\n",
      "Epoch 6/10, Loss: 0.24300451062876602\n",
      "Epoch 7/10, Loss: 0.16406026431198778\n",
      "Epoch 8/10, Loss: 0.09486501946531493\n",
      "Epoch 9/10, Loss: 0.05851463922138872\n",
      "Epoch 10/10, Loss: 0.021508365805292952\n"
     ]
    },
    {
     "name": "stderr",
     "output_type": "stream",
     "text": [
      "c:\\Users\\Hp\\anaconda3\\envs\\cuda_deneme\\Lib\\site-packages\\sklearn\\cluster\\_kmeans.py:1429: UserWarning: KMeans is known to have a memory leak on Windows with MKL, when there are less chunks than available threads. You can avoid it by setting the environment variable OMP_NUM_THREADS=5.\n",
      "  warnings.warn(\n",
      "C:\\Users\\Hp\\AppData\\Local\\Temp\\ipykernel_7344\\2387970315.py:15: UserWarning: To copy construct from a tensor, it is recommended to use sourceTensor.clone().detach() or sourceTensor.clone().detach().requires_grad_(True), rather than torch.tensor(sourceTensor).\n",
      "  train_distilled_dataset = TensorDataset(torch.tensor(X_train_distilled, dtype=torch.float32), y_train_distilled)\n"
     ]
    },
    {
     "name": "stdout",
     "output_type": "stream",
     "text": [
      "Epoch 1/10, Loss: 0.8195638348316324\n",
      "Epoch 2/10, Loss: 0.6278100034286236\n",
      "Epoch 3/10, Loss: 0.555568509060761\n",
      "Epoch 4/10, Loss: 0.4900853767477233\n",
      "Epoch 5/10, Loss: 0.44322267894087164\n",
      "Epoch 6/10, Loss: 0.38917762092475233\n",
      "Epoch 7/10, Loss: 0.30263256307305963\n",
      "Epoch 8/10, Loss: 0.24202726318918424\n",
      "Epoch 9/10, Loss: 0.15835288989132848\n",
      "Epoch 10/10, Loss: 0.07681196985830521\n"
     ]
    },
    {
     "name": "stderr",
     "output_type": "stream",
     "text": [
      "c:\\Users\\Hp\\anaconda3\\envs\\cuda_deneme\\Lib\\site-packages\\sklearn\\cluster\\_kmeans.py:1429: UserWarning: KMeans is known to have a memory leak on Windows with MKL, when there are less chunks than available threads. You can avoid it by setting the environment variable OMP_NUM_THREADS=5.\n",
      "  warnings.warn(\n",
      "C:\\Users\\Hp\\AppData\\Local\\Temp\\ipykernel_7344\\2387970315.py:15: UserWarning: To copy construct from a tensor, it is recommended to use sourceTensor.clone().detach() or sourceTensor.clone().detach().requires_grad_(True), rather than torch.tensor(sourceTensor).\n",
      "  train_distilled_dataset = TensorDataset(torch.tensor(X_train_distilled, dtype=torch.float32), y_train_distilled)\n"
     ]
    },
    {
     "name": "stdout",
     "output_type": "stream",
     "text": [
      "Epoch 1/10, Loss: 0.712884052046414\n",
      "Epoch 2/10, Loss: 0.6212110406365888\n",
      "Epoch 3/10, Loss: 0.5160031441984505\n",
      "Epoch 4/10, Loss: 0.4441218088413107\n",
      "Epoch 5/10, Loss: 0.363328730237895\n",
      "Epoch 6/10, Loss: 0.26144357102698296\n",
      "Epoch 7/10, Loss: 0.18577457707503747\n",
      "Epoch 8/10, Loss: 0.11136023244210358\n",
      "Epoch 9/10, Loss: 0.06061626392705687\n",
      "Epoch 10/10, Loss: 0.03207128433960265\n"
     ]
    },
    {
     "name": "stderr",
     "output_type": "stream",
     "text": [
      "c:\\Users\\Hp\\anaconda3\\envs\\cuda_deneme\\Lib\\site-packages\\sklearn\\cluster\\_kmeans.py:1429: UserWarning: KMeans is known to have a memory leak on Windows with MKL, when there are less chunks than available threads. You can avoid it by setting the environment variable OMP_NUM_THREADS=5.\n",
      "  warnings.warn(\n",
      "C:\\Users\\Hp\\AppData\\Local\\Temp\\ipykernel_7344\\2387970315.py:15: UserWarning: To copy construct from a tensor, it is recommended to use sourceTensor.clone().detach() or sourceTensor.clone().detach().requires_grad_(True), rather than torch.tensor(sourceTensor).\n",
      "  train_distilled_dataset = TensorDataset(torch.tensor(X_train_distilled, dtype=torch.float32), y_train_distilled)\n"
     ]
    },
    {
     "name": "stdout",
     "output_type": "stream",
     "text": [
      "Epoch 1/10, Loss: 0.9301504574973007\n",
      "Epoch 2/10, Loss: 0.6910574395081093\n",
      "Epoch 3/10, Loss: 0.6462852934311176\n",
      "Epoch 4/10, Loss: 0.5837221012033266\n",
      "Epoch 5/10, Loss: 0.5395967539014488\n",
      "Epoch 6/10, Loss: 0.488248735666275\n",
      "Epoch 7/10, Loss: 0.4325397179044526\n",
      "Epoch 8/10, Loss: 0.3578494854014495\n",
      "Epoch 9/10, Loss: 0.2933985298049861\n",
      "Epoch 10/10, Loss: 0.18915007905713443\n"
     ]
    },
    {
     "name": "stderr",
     "output_type": "stream",
     "text": [
      "c:\\Users\\Hp\\anaconda3\\envs\\cuda_deneme\\Lib\\site-packages\\sklearn\\cluster\\_kmeans.py:1429: UserWarning: KMeans is known to have a memory leak on Windows with MKL, when there are less chunks than available threads. You can avoid it by setting the environment variable OMP_NUM_THREADS=5.\n",
      "  warnings.warn(\n",
      "C:\\Users\\Hp\\AppData\\Local\\Temp\\ipykernel_7344\\2387970315.py:15: UserWarning: To copy construct from a tensor, it is recommended to use sourceTensor.clone().detach() or sourceTensor.clone().detach().requires_grad_(True), rather than torch.tensor(sourceTensor).\n",
      "  train_distilled_dataset = TensorDataset(torch.tensor(X_train_distilled, dtype=torch.float32), y_train_distilled)\n"
     ]
    },
    {
     "name": "stdout",
     "output_type": "stream",
     "text": [
      "Epoch 1/10, Loss: 0.6848538661825245\n",
      "Epoch 2/10, Loss: 0.5769949421800417\n",
      "Epoch 3/10, Loss: 0.4853393743778097\n",
      "Epoch 4/10, Loss: 0.4089252522279476\n",
      "Epoch 5/10, Loss: 0.3116640397186937\n",
      "Epoch 6/10, Loss: 0.22252236486508928\n",
      "Epoch 7/10, Loss: 0.1427854142826179\n",
      "Epoch 8/10, Loss: 0.08489445365708449\n",
      "Epoch 9/10, Loss: 0.05582020592329831\n",
      "Epoch 10/10, Loss: 0.026675443967868542\n"
     ]
    },
    {
     "name": "stderr",
     "output_type": "stream",
     "text": [
      "c:\\Users\\Hp\\anaconda3\\envs\\cuda_deneme\\Lib\\site-packages\\sklearn\\cluster\\_kmeans.py:1429: UserWarning: KMeans is known to have a memory leak on Windows with MKL, when there are less chunks than available threads. You can avoid it by setting the environment variable OMP_NUM_THREADS=5.\n",
      "  warnings.warn(\n",
      "C:\\Users\\Hp\\AppData\\Local\\Temp\\ipykernel_7344\\2387970315.py:15: UserWarning: To copy construct from a tensor, it is recommended to use sourceTensor.clone().detach() or sourceTensor.clone().detach().requires_grad_(True), rather than torch.tensor(sourceTensor).\n",
      "  train_distilled_dataset = TensorDataset(torch.tensor(X_train_distilled, dtype=torch.float32), y_train_distilled)\n"
     ]
    },
    {
     "name": "stdout",
     "output_type": "stream",
     "text": [
      "Epoch 1/10, Loss: 0.7057960465036589\n",
      "Epoch 2/10, Loss: 0.5794108725827316\n",
      "Epoch 3/10, Loss: 0.5231709161709095\n",
      "Epoch 4/10, Loss: 0.449685623933529\n",
      "Epoch 5/10, Loss: 0.3482562282989765\n",
      "Epoch 6/10, Loss: 0.2579050762899991\n",
      "Epoch 7/10, Loss: 0.17240948461253067\n",
      "Epoch 8/10, Loss: 0.13504132461445084\n",
      "Epoch 9/10, Loss: 0.05134566805871396\n",
      "Epoch 10/10, Loss: 0.0365535921320833\n"
     ]
    },
    {
     "data": {
      "image/png": "[encoded data removed]",
      "text/plain": [
       "<Figure size 1000x600 with 1 Axes>"
      ]
     },
     "metadata": {},
     "output_type": "display_data"
    },
    {
     "name": "stdout",
     "output_type": "stream",
     "text": [
      "Average Distilled Model Accuracy: 73.28185328185329%\n",
      "Original Model Accuracy: 84.44444444444444%\n"
     ]
    }
   ],
   "source": [
    "n_runs = 10\n",
    "distilled_accuracies = list()\n",
    "original_accuracies = list()\n",
    "\n",
    "for i in range(n_runs):\n",
    "    grid_sampler = gd.TriangularImageClusterSampler(X_train, y_train, n_clusters=10, n_samples=60)\n",
    "    grid_sampler.cluster_images()\n",
    "    selected_samples = grid_sampler.get_selected_samples()\n",
    "\n",
    "    # Create a new dataset with the selected samples\n",
    "    X_train_distilled = X_train[selected_samples]\n",
    "    y_train_distilled = y_train[selected_samples]\n",
    "\n",
    "    # Create a DataLoader for the distilled dataset\n",
    "    train_distilled_dataset = TensorDataset(torch.tensor(X_train_distilled, dtype=torch.float32), y_train_distilled)\n",
    "    train_distilled_loader = DataLoader(train_distilled_dataset, batch_size=32, shuffle=True)\n",
    "\n",
    "    # Initialize a new model\n",
    "    distilled_model = SimpleCNN()\n",
    "    criterion = nn.CrossEntropyLoss()\n",
    "    optimizer = optim.Adam(distilled_model.parameters(), lr=0.001)\n",
    "\n",
    "    # Train the distilled model\n",
    "    train(distilled_model, train_distilled_loader, criterion, optimizer, epochs=10)\n",
    "    distilled_accuracy = evaluate(distilled_model, test_loader)\n",
    "    distilled_accuracies.append(distilled_accuracy)\n",
    "\n",
    "# plot the results of the every distilled model and the original model\n",
    "plt.figure(figsize=(10, 6))\n",
    "plt.plot(distilled_accuracies, label='Distilled Model')\n",
    "plt.axhline(y=original_accuracy, color='r', linestyle='-', label='Original Model')\n",
    "plt.xlabel('Run')\n",
    "plt.ylabel('Accuracy (%)')\n",
    "plt.title('Distilled Model vs Original Model')\n",
    "plt.legend()\n",
    "plt.show()\n",
    "\n",
    "# print average accuracy of distilled models\n",
    "print(f'Average Distilled Model Accuracy: {np.mean(distilled_accuracies)}%')\n",
    "print(f'Original Model Accuracy: {original_accuracy}%')\n"
   ]
  },
  {
   "cell_type": "markdown",
   "metadata": {},
   "source": [
    "## Brick Distillation"
   ]
  },
  {
   "cell_type": "code",
   "execution_count": 17,
   "metadata": {},
   "outputs": [
    {
     "name": "stderr",
     "output_type": "stream",
     "text": [
      "c:\\Users\\Hp\\anaconda3\\envs\\cuda_deneme\\Lib\\site-packages\\sklearn\\cluster\\_kmeans.py:1429: UserWarning: KMeans is known to have a memory leak on Windows with MKL, when there are less chunks than available threads. You can avoid it by setting the environment variable OMP_NUM_THREADS=5.\n",
      "  warnings.warn(\n",
      "C:\\Users\\Hp\\AppData\\Local\\Temp\\ipykernel_7344\\1511781321.py:15: UserWarning: To copy construct from a tensor, it is recommended to use sourceTensor.clone().detach() or sourceTensor.clone().detach().requires_grad_(True), rather than torch.tensor(sourceTensor).\n",
      "  train_distilled_dataset = TensorDataset(torch.tensor(X_train_distilled, dtype=torch.float32), y_train_distilled)\n"
     ]
    },
    {
     "name": "stdout",
     "output_type": "stream",
     "text": [
      "Epoch 1/10, Loss: 0.6988987398558649\n",
      "Epoch 2/10, Loss: 0.5098521935528723\n",
      "Epoch 3/10, Loss: 0.44060251219519253\n",
      "Epoch 4/10, Loss: 0.3446022128236705\n",
      "Epoch 5/10, Loss: 0.26597560839406376\n",
      "Epoch 6/10, Loss: 0.1718638946527037\n",
      "Epoch 7/10, Loss: 0.1029060360943449\n",
      "Epoch 8/10, Loss: 0.044490528838901686\n",
      "Epoch 9/10, Loss: 0.01881826681823566\n",
      "Epoch 10/10, Loss: 0.007860006226612062\n"
     ]
    },
    {
     "name": "stderr",
     "output_type": "stream",
     "text": [
      "c:\\Users\\Hp\\anaconda3\\envs\\cuda_deneme\\Lib\\site-packages\\sklearn\\cluster\\_kmeans.py:1429: UserWarning: KMeans is known to have a memory leak on Windows with MKL, when there are less chunks than available threads. You can avoid it by setting the environment variable OMP_NUM_THREADS=5.\n",
      "  warnings.warn(\n",
      "C:\\Users\\Hp\\AppData\\Local\\Temp\\ipykernel_7344\\1511781321.py:15: UserWarning: To copy construct from a tensor, it is recommended to use sourceTensor.clone().detach() or sourceTensor.clone().detach().requires_grad_(True), rather than torch.tensor(sourceTensor).\n",
      "  train_distilled_dataset = TensorDataset(torch.tensor(X_train_distilled, dtype=torch.float32), y_train_distilled)\n"
     ]
    },
    {
     "name": "stdout",
     "output_type": "stream",
     "text": [
      "Epoch 1/10, Loss: 0.7335350883418116\n",
      "Epoch 2/10, Loss: 0.5929021383153981\n",
      "Epoch 3/10, Loss: 0.4791774194816063\n",
      "Epoch 4/10, Loss: 0.37762291934983483\n",
      "Epoch 5/10, Loss: 0.3021829066605404\n",
      "Epoch 6/10, Loss: 0.20560955872823453\n",
      "Epoch 7/10, Loss: 0.12259917988859374\n",
      "Epoch 8/10, Loss: 0.071411131014084\n",
      "Epoch 9/10, Loss: 0.05194769851092634\n",
      "Epoch 10/10, Loss: 0.049715321254113626\n"
     ]
    },
    {
     "name": "stderr",
     "output_type": "stream",
     "text": [
      "c:\\Users\\Hp\\anaconda3\\envs\\cuda_deneme\\Lib\\site-packages\\sklearn\\cluster\\_kmeans.py:1429: UserWarning: KMeans is known to have a memory leak on Windows with MKL, when there are less chunks than available threads. You can avoid it by setting the environment variable OMP_NUM_THREADS=5.\n",
      "  warnings.warn(\n",
      "C:\\Users\\Hp\\AppData\\Local\\Temp\\ipykernel_7344\\1511781321.py:15: UserWarning: To copy construct from a tensor, it is recommended to use sourceTensor.clone().detach() or sourceTensor.clone().detach().requires_grad_(True), rather than torch.tensor(sourceTensor).\n",
      "  train_distilled_dataset = TensorDataset(torch.tensor(X_train_distilled, dtype=torch.float32), y_train_distilled)\n"
     ]
    },
    {
     "name": "stdout",
     "output_type": "stream",
     "text": [
      "Epoch 1/10, Loss: 0.7526501704906595\n",
      "Epoch 2/10, Loss: 0.6143213325533373\n",
      "Epoch 3/10, Loss: 0.5547655954443175\n",
      "Epoch 4/10, Loss: 0.507642647315716\n",
      "Epoch 5/10, Loss: 0.43731253825384997\n",
      "Epoch 6/10, Loss: 0.3816453382886689\n",
      "Epoch 7/10, Loss: 0.31099339754417027\n",
      "Epoch 8/10, Loss: 0.22000898395119042\n",
      "Epoch 9/10, Loss: 0.16464784124801898\n",
      "Epoch 10/10, Loss: 0.10348063187095626\n"
     ]
    },
    {
     "name": "stderr",
     "output_type": "stream",
     "text": [
      "c:\\Users\\Hp\\anaconda3\\envs\\cuda_deneme\\Lib\\site-packages\\sklearn\\cluster\\_kmeans.py:1429: UserWarning: KMeans is known to have a memory leak on Windows with MKL, when there are less chunks than available threads. You can avoid it by setting the environment variable OMP_NUM_THREADS=5.\n",
      "  warnings.warn(\n",
      "C:\\Users\\Hp\\AppData\\Local\\Temp\\ipykernel_7344\\1511781321.py:15: UserWarning: To copy construct from a tensor, it is recommended to use sourceTensor.clone().detach() or sourceTensor.clone().detach().requires_grad_(True), rather than torch.tensor(sourceTensor).\n",
      "  train_distilled_dataset = TensorDataset(torch.tensor(X_train_distilled, dtype=torch.float32), y_train_distilled)\n"
     ]
    },
    {
     "name": "stdout",
     "output_type": "stream",
     "text": [
      "Epoch 1/10, Loss: 0.7007031646268121\n",
      "Epoch 2/10, Loss: 0.5273678066401646\n",
      "Epoch 3/10, Loss: 0.408271753068628\n",
      "Epoch 4/10, Loss: 0.3949801145956434\n",
      "Epoch 5/10, Loss: 0.2770857322832634\n",
      "Epoch 6/10, Loss: 0.1740896619599441\n",
      "Epoch 7/10, Loss: 0.12422425158578775\n",
      "Epoch 8/10, Loss: 0.05935458928860467\n",
      "Epoch 9/10, Loss: 0.03094687751205317\n",
      "Epoch 10/10, Loss: 0.02105511123603531\n"
     ]
    },
    {
     "name": "stderr",
     "output_type": "stream",
     "text": [
      "c:\\Users\\Hp\\anaconda3\\envs\\cuda_deneme\\Lib\\site-packages\\sklearn\\cluster\\_kmeans.py:1429: UserWarning: KMeans is known to have a memory leak on Windows with MKL, when there are less chunks than available threads. You can avoid it by setting the environment variable OMP_NUM_THREADS=5.\n",
      "  warnings.warn(\n",
      "C:\\Users\\Hp\\AppData\\Local\\Temp\\ipykernel_7344\\1511781321.py:15: UserWarning: To copy construct from a tensor, it is recommended to use sourceTensor.clone().detach() or sourceTensor.clone().detach().requires_grad_(True), rather than torch.tensor(sourceTensor).\n",
      "  train_distilled_dataset = TensorDataset(torch.tensor(X_train_distilled, dtype=torch.float32), y_train_distilled)\n"
     ]
    },
    {
     "name": "stdout",
     "output_type": "stream",
     "text": [
      "Epoch 1/10, Loss: 0.7271078598910364\n",
      "Epoch 2/10, Loss: 0.5806735342946546\n",
      "Epoch 3/10, Loss: 0.5543705379140789\n",
      "Epoch 4/10, Loss: 0.5057525172315794\n",
      "Epoch 5/10, Loss: 0.42752937510095795\n",
      "Epoch 6/10, Loss: 0.35601143179268674\n",
      "Epoch 7/10, Loss: 0.2654743903669818\n",
      "Epoch 8/10, Loss: 0.1746644601225853\n",
      "Epoch 9/10, Loss: 0.11278015490749786\n",
      "Epoch 10/10, Loss: 0.05736966260933671\n"
     ]
    },
    {
     "name": "stderr",
     "output_type": "stream",
     "text": [
      "c:\\Users\\Hp\\anaconda3\\envs\\cuda_deneme\\Lib\\site-packages\\sklearn\\cluster\\_kmeans.py:1429: UserWarning: KMeans is known to have a memory leak on Windows with MKL, when there are less chunks than available threads. You can avoid it by setting the environment variable OMP_NUM_THREADS=5.\n",
      "  warnings.warn(\n",
      "C:\\Users\\Hp\\AppData\\Local\\Temp\\ipykernel_7344\\1511781321.py:15: UserWarning: To copy construct from a tensor, it is recommended to use sourceTensor.clone().detach() or sourceTensor.clone().detach().requires_grad_(True), rather than torch.tensor(sourceTensor).\n",
      "  train_distilled_dataset = TensorDataset(torch.tensor(X_train_distilled, dtype=torch.float32), y_train_distilled)\n"
     ]
    },
    {
     "name": "stdout",
     "output_type": "stream",
     "text": [
      "Epoch 1/10, Loss: 0.7700300812721252\n",
      "Epoch 2/10, Loss: 0.6547453321259598\n",
      "Epoch 3/10, Loss: 0.5689334828278114\n",
      "Epoch 4/10, Loss: 0.4932205707862459\n",
      "Epoch 5/10, Loss: 0.4097235665239137\n",
      "Epoch 6/10, Loss: 0.3210005133316435\n",
      "Epoch 7/10, Loss: 0.22937057501283184\n",
      "Epoch 8/10, Loss: 0.14560326587023406\n",
      "Epoch 9/10, Loss: 0.10506878947389536\n",
      "Epoch 10/10, Loss: 0.04096832055726956\n"
     ]
    },
    {
     "name": "stderr",
     "output_type": "stream",
     "text": [
      "c:\\Users\\Hp\\anaconda3\\envs\\cuda_deneme\\Lib\\site-packages\\sklearn\\cluster\\_kmeans.py:1429: UserWarning: KMeans is known to have a memory leak on Windows with MKL, when there are less chunks than available threads. You can avoid it by setting the environment variable OMP_NUM_THREADS=5.\n",
      "  warnings.warn(\n",
      "C:\\Users\\Hp\\AppData\\Local\\Temp\\ipykernel_7344\\1511781321.py:15: UserWarning: To copy construct from a tensor, it is recommended to use sourceTensor.clone().detach() or sourceTensor.clone().detach().requires_grad_(True), rather than torch.tensor(sourceTensor).\n",
      "  train_distilled_dataset = TensorDataset(torch.tensor(X_train_distilled, dtype=torch.float32), y_train_distilled)\n"
     ]
    },
    {
     "name": "stdout",
     "output_type": "stream",
     "text": [
      "Epoch 1/10, Loss: 0.7750911466006575\n",
      "Epoch 2/10, Loss: 0.639485527729166\n",
      "Epoch 3/10, Loss: 0.5592145036006796\n",
      "Epoch 4/10, Loss: 0.5462953962128738\n",
      "Epoch 5/10, Loss: 0.5057827285651503\n",
      "Epoch 6/10, Loss: 0.44954026207841674\n",
      "Epoch 7/10, Loss: 0.40217254233771355\n",
      "Epoch 8/10, Loss: 0.33461850727426595\n",
      "Epoch 9/10, Loss: 0.29066559209905823\n",
      "Epoch 10/10, Loss: 0.2100616536777595\n"
     ]
    },
    {
     "name": "stderr",
     "output_type": "stream",
     "text": [
      "c:\\Users\\Hp\\anaconda3\\envs\\cuda_deneme\\Lib\\site-packages\\sklearn\\cluster\\_kmeans.py:1429: UserWarning: KMeans is known to have a memory leak on Windows with MKL, when there are less chunks than available threads. You can avoid it by setting the environment variable OMP_NUM_THREADS=5.\n",
      "  warnings.warn(\n",
      "C:\\Users\\Hp\\AppData\\Local\\Temp\\ipykernel_7344\\1511781321.py:15: UserWarning: To copy construct from a tensor, it is recommended to use sourceTensor.clone().detach() or sourceTensor.clone().detach().requires_grad_(True), rather than torch.tensor(sourceTensor).\n",
      "  train_distilled_dataset = TensorDataset(torch.tensor(X_train_distilled, dtype=torch.float32), y_train_distilled)\n"
     ]
    },
    {
     "name": "stdout",
     "output_type": "stream",
     "text": [
      "Epoch 1/10, Loss: 0.8551855560006767\n",
      "Epoch 2/10, Loss: 0.6156424900581097\n",
      "Epoch 3/10, Loss: 0.5339964957072817\n",
      "Epoch 4/10, Loss: 0.46127232909202576\n",
      "Epoch 5/10, Loss: 0.41728612677804355\n",
      "Epoch 6/10, Loss: 0.3557449908092104\n",
      "Epoch 7/10, Loss: 0.28390102550901214\n",
      "Epoch 8/10, Loss: 0.252327392584291\n",
      "Epoch 9/10, Loss: 0.1810725400673932\n",
      "Epoch 10/10, Loss: 0.1341915273203932\n"
     ]
    },
    {
     "name": "stderr",
     "output_type": "stream",
     "text": [
      "c:\\Users\\Hp\\anaconda3\\envs\\cuda_deneme\\Lib\\site-packages\\sklearn\\cluster\\_kmeans.py:1429: UserWarning: KMeans is known to have a memory leak on Windows with MKL, when there are less chunks than available threads. You can avoid it by setting the environment variable OMP_NUM_THREADS=5.\n",
      "  warnings.warn(\n",
      "C:\\Users\\Hp\\AppData\\Local\\Temp\\ipykernel_7344\\1511781321.py:15: UserWarning: To copy construct from a tensor, it is recommended to use sourceTensor.clone().detach() or sourceTensor.clone().detach().requires_grad_(True), rather than torch.tensor(sourceTensor).\n",
      "  train_distilled_dataset = TensorDataset(torch.tensor(X_train_distilled, dtype=torch.float32), y_train_distilled)\n"
     ]
    },
    {
     "name": "stdout",
     "output_type": "stream",
     "text": [
      "Epoch 1/10, Loss: 0.8710630823825968\n",
      "Epoch 2/10, Loss: 0.6558606686263249\n",
      "Epoch 3/10, Loss: 0.5993822607500799\n",
      "Epoch 4/10, Loss: 0.566157533177014\n",
      "Epoch 5/10, Loss: 0.535940927678141\n",
      "Epoch 6/10, Loss: 0.5117135859768966\n",
      "Epoch 7/10, Loss: 0.45602024012598497\n",
      "Epoch 8/10, Loss: 0.39119786126860256\n",
      "Epoch 9/10, Loss: 0.3697606787599366\n",
      "Epoch 10/10, Loss: 0.28183329310910454\n"
     ]
    },
    {
     "name": "stderr",
     "output_type": "stream",
     "text": [
      "c:\\Users\\Hp\\anaconda3\\envs\\cuda_deneme\\Lib\\site-packages\\sklearn\\cluster\\_kmeans.py:1429: UserWarning: KMeans is known to have a memory leak on Windows with MKL, when there are less chunks than available threads. You can avoid it by setting the environment variable OMP_NUM_THREADS=5.\n",
      "  warnings.warn(\n",
      "C:\\Users\\Hp\\AppData\\Local\\Temp\\ipykernel_7344\\1511781321.py:15: UserWarning: To copy construct from a tensor, it is recommended to use sourceTensor.clone().detach() or sourceTensor.clone().detach().requires_grad_(True), rather than torch.tensor(sourceTensor).\n",
      "  train_distilled_dataset = TensorDataset(torch.tensor(X_train_distilled, dtype=torch.float32), y_train_distilled)\n"
     ]
    },
    {
     "name": "stdout",
     "output_type": "stream",
     "text": [
      "Epoch 1/10, Loss: 0.7644870527859392\n",
      "Epoch 2/10, Loss: 0.6078265165460521\n",
      "Epoch 3/10, Loss: 0.506526373583695\n",
      "Epoch 4/10, Loss: 0.4514890292595173\n",
      "Epoch 5/10, Loss: 0.3381761240548101\n",
      "Epoch 6/10, Loss: 0.24933097485838265\n",
      "Epoch 7/10, Loss: 0.19523270762172237\n",
      "Epoch 8/10, Loss: 0.16005437255933366\n",
      "Epoch 9/10, Loss: 0.08585289583123963\n",
      "Epoch 10/10, Loss: 0.033394266433756925\n"
     ]
    },
    {
     "data": {
      "image/png": "[encoded data removed]",
      "text/plain": [
       "<Figure size 1000x600 with 1 Axes>"
      ]
     },
     "metadata": {},
     "output_type": "display_data"
    },
    {
     "name": "stdout",
     "output_type": "stream",
     "text": [
      "Average Distilled Model Accuracy: 74.74903474903473%\n",
      "Original Model Accuracy: 84.44444444444444%\n"
     ]
    }
   ],
   "source": [
    "n_runs = 10\n",
    "distilled_accuracies = list()\n",
    "original_accuracies = list()\n",
    "\n",
    "for i in range(n_runs):\n",
    "    grid_sampler = gd.BrickImageClusterSampler(X_train, y_train, n_clusters=10, n_samples=60)\n",
    "    grid_sampler.cluster_images()\n",
    "    selected_samples = grid_sampler.get_selected_samples()\n",
    "\n",
    "    # Create a new dataset with the selected samples\n",
    "    X_train_distilled = X_train[selected_samples]\n",
    "    y_train_distilled = y_train[selected_samples]\n",
    "\n",
    "    # Create a DataLoader for the distilled dataset\n",
    "    train_distilled_dataset = TensorDataset(torch.tensor(X_train_distilled, dtype=torch.float32), y_train_distilled)\n",
    "    train_distilled_loader = DataLoader(train_distilled_dataset, batch_size=32, shuffle=True)\n",
    "\n",
    "    # Initialize a new model\n",
    "    distilled_model = SimpleCNN()\n",
    "    criterion = nn.CrossEntropyLoss()\n",
    "    optimizer = optim.Adam(distilled_model.parameters(), lr=0.001)\n",
    "\n",
    "    # Train the distilled model\n",
    "    train(distilled_model, train_distilled_loader, criterion, optimizer, epochs=10)\n",
    "    distilled_accuracy = evaluate(distilled_model, test_loader)\n",
    "    distilled_accuracies.append(distilled_accuracy)\n",
    "\n",
    "# plot the results of the every distilled model and the original model\n",
    "plt.figure(figsize=(10, 6))\n",
    "plt.plot(distilled_accuracies, label='Distilled Model')\n",
    "plt.axhline(y=original_accuracy, color='r', linestyle='-', label='Original Model')\n",
    "plt.xlabel('Run')\n",
    "plt.ylabel('Accuracy (%)')\n",
    "plt.title('Distilled Model vs Original Model')\n",
    "plt.legend()\n",
    "plt.show()\n",
    "\n",
    "# print average accuracy of distilled models\n",
    "print(f'Average Distilled Model Accuracy: {np.mean(distilled_accuracies)}%')\n",
    "print(f'Original Model Accuracy: {original_accuracy}%')\n"
   ]
  }
 ],
 "metadata": {
  "kernelspec": {
   "display_name": "cuda_deneme",
   "language": "python",
   "name": "python3"
  },
  "language_info": {
   "codemirror_mode": {
    "name": "ipython",
    "version": 3
   },
   "file_extension": ".py",
   "mimetype": "text/x-python",
   "name": "python",
   "nbconvert_exporter": "python",
   "pygments_lexer": "ipython3",
   "version": "3.11.9"
  }
 },
 "nbformat": 4,
 "nbformat_minor": 2
}
